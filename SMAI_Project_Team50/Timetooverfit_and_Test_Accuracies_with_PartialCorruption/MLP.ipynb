{
 "cells": [
  {
   "cell_type": "code",
   "execution_count": 76,
   "metadata": {
    "id": "hfGW42lMfkNx"
   },
   "outputs": [],
   "source": [
    "import torch\n",
    "import numpy as np\n",
    "import pandas as pd\n",
    "import torch.nn as nn\n",
    "import torch.optim as optim\n",
    "import os\n",
    "import matplotlib.pyplot as plt\n",
    "import torch.nn.functional as F\n",
    "%matplotlib inline\n",
    "import random"
   ]
  },
  {
   "cell_type": "code",
   "execution_count": 77,
   "metadata": {
    "id": "0nhwLHyrfuM9"
   },
   "outputs": [],
   "source": [
    "import torchvision\n",
    "import torchvision.transforms as transforms"
   ]
  },
  {
   "cell_type": "code",
   "execution_count": 78,
   "metadata": {
    "colab": {
     "base_uri": "https://localhost:8080/"
    },
    "id": "asW8b5qofv2f",
    "outputId": "b6ecc0c4-ee95-405d-8563-f52ae16aa949"
   },
   "outputs": [
    {
     "name": "stdout",
     "output_type": "stream",
     "text": [
      "Device available now: cpu\n"
     ]
    }
   ],
   "source": [
    "device = torch.device('cuda' if torch.cuda.is_available() else 'cpu')\n",
    "print('Device available now:', device)"
   ]
  },
  {
   "cell_type": "code",
   "execution_count": 79,
   "metadata": {
    "id": "1iv2_ehQfxKd"
   },
   "outputs": [],
   "source": [
    "image_transforms = transforms.Compose(\n",
    "         [transforms.ToTensor(),\n",
    "         transforms.CenterCrop(28),\n",
    "         transforms.Normalize((0.5), (0.5))]\n",
    ")"
   ]
  },
  {
   "cell_type": "code",
   "execution_count": 80,
   "metadata": {
    "id": "DoJMpSvIfy3s"
   },
   "outputs": [],
   "source": [
    "batchsize = 32\n",
    "rowsize = 28\n",
    "colsize = 28\n",
    "inchannels = 3\n",
    "kernelsize = 5\n",
    "stride = 1\n",
    "padding = 0\n",
    "poolsize = 3\n",
    "fc_size1 = 384\n",
    "fc_size2 = 192\n",
    "no_classes = 10\n",
    "epochs = 100\n",
    "overfit_accuracy = 90"
   ]
  },
  {
   "cell_type": "code",
   "execution_count": 81,
   "metadata": {
    "id": "xqQS-O16f1e0"
   },
   "outputs": [],
   "source": [
    "alex_overfitcounts = []\n",
    "alex_testaccuracies = []"
   ]
  },
  {
   "cell_type": "code",
   "execution_count": 82,
   "metadata": {
    "colab": {
     "base_uri": "https://localhost:8080/"
    },
    "id": "n_Y9c_u-f3_1",
    "outputId": "57bb70d0-7de4-4292-d59c-d2559f46c9da"
   },
   "outputs": [
    {
     "name": "stdout",
     "output_type": "stream",
     "text": [
      "Files already downloaded and verified\n"
     ]
    }
   ],
   "source": [
    "train = torchvision.datasets.CIFAR10(root='./', train=True, download=True, transform=image_transforms)\n",
    "test = torchvision.datasets.CIFAR10(root='./', train=False, transform=image_transforms)"
   ]
  },
  {
   "cell_type": "code",
   "execution_count": 83,
   "metadata": {
    "id": "gxpwfxoAf5oO"
   },
   "outputs": [],
   "source": [
    "trainindices = list(range(0, len(train), 10))\n",
    "testindices = list(range(0, len(test),10))\n",
    "trainset = torch.utils.data.Subset(train,trainindices)\n",
    "testset = torch.utils.data.Subset(test,testindices)"
   ]
  },
  {
   "cell_type": "code",
   "execution_count": 84,
   "metadata": {
    "id": "ol08oQdCf7FV"
   },
   "outputs": [],
   "source": [
    "traindata = torch.utils.data.DataLoader(trainset,batch_size=batchsize, shuffle=False, num_workers=2,pin_memory=True)\n",
    "testdata = torch.utils.data.DataLoader(testset,batch_size=batchsize, shuffle=False, num_workers=2,pin_memory=True)"
   ]
  },
  {
   "cell_type": "code",
   "execution_count": 85,
   "metadata": {
    "id": "R7ZS2Rgmf8yG"
   },
   "outputs": [],
   "source": [
    "train_labels = torch.zeros(len(traindata)*batchsize)\n",
    "test_labels = torch.zeros(len(testdata)*batchsize)\n",
    "trainnum = 0\n",
    "testnum = 0\n",
    "for i,data in enumerate(traindata):\n",
    "  for j in range(len(data[1])):\n",
    "    train_labels[trainnum] = data[1][j]\n",
    "    trainnum+=1\n",
    "for i,data in enumerate(testdata):\n",
    "  for j in range(len(data[1])):\n",
    "    test_labels[testnum] = data[1][j]\n",
    "    testnum+=1\n",
    "  "
   ]
  },
  {
   "cell_type": "code",
   "execution_count": 86,
   "metadata": {
    "id": "n4en1TINf-og"
   },
   "outputs": [],
   "source": [
    "class MLP_3_512(nn.Module):\n",
    "  def __init__(self, no_classes):\n",
    "    super().__init__()\n",
    "    self.fc1 = nn.Linear(3*28*28,300)\n",
    "    self.fc2 = nn.Linear(300,300)\n",
    "    self.fc3 = nn.Linear(300,300)\n",
    "    self.fc4 = nn.Linear(300,no_classes) \n",
    "\n",
    "  def forward(self, x):\n",
    "    x = torch.flatten(x,1)\n",
    "    x = F.relu(self.fc1(x))\n",
    "    x = F.relu(self.fc2(x))\n",
    "    x = F.relu(self.fc3(x))\n",
    "    x = self.fc4(x)\n",
    "    return x"
   ]
  },
  {
   "cell_type": "code",
   "execution_count": null,
   "metadata": {
    "id": "IMsNvwMnntmZ"
   },
   "outputs": [],
   "source": []
  },
  {
   "cell_type": "code",
   "execution_count": 87,
   "metadata": {
    "id": "zt6Aw8BagCRG"
   },
   "outputs": [],
   "source": [
    "model = MLP_3_512(no_classes).to(device)\n",
    "# model = SimpleAlex(no_classes).to(device)"
   ]
  },
  {
   "cell_type": "code",
   "execution_count": 88,
   "metadata": {
    "id": "SK7LZYA2gEYq"
   },
   "outputs": [],
   "source": [
    "optimizer = torch.optim.SGD(model.parameters(),lr=0.01,momentum = 0.9)\n",
    "criterion = nn.CrossEntropyLoss().to(device)"
   ]
  },
  {
   "cell_type": "code",
   "execution_count": 89,
   "metadata": {
    "id": "gRTSTf52gF9A"
   },
   "outputs": [],
   "source": [
    "# def training(model,traindata,testdata):\n",
    "def training(model,traindata,testdata,optimizer,train_labels,test_labels):\n",
    "  test_accuracies = []\n",
    "  test_accuracies.append(0)\n",
    "  test_accuracies.append(0)\n",
    "  test_accuracies.append(0)\n",
    "  count=0\n",
    "  flag=0\n",
    "  prev = 0\n",
    "  for ep in range(epochs):\n",
    "    Loss = 0\n",
    "    num_correct=0\n",
    "    tot = 0\n",
    "    testnum = 0\n",
    "    trainnum = 0\n",
    "    for i,data in enumerate(traindata):\n",
    "      x_data = data[0].to(device)\n",
    "      labels = data[1].to(device)\n",
    "      for j in range(len(x_data)):\n",
    "        labels[j] = train_labels[trainnum]\n",
    "        trainnum+=1\n",
    "      optimizer.zero_grad()\n",
    "      outputs = model(x_data)\n",
    "      _, pred = torch.max(outputs.data, 1)\n",
    "      num_correct += (pred == labels).sum().item()\n",
    "      tot += labels.size(0)\n",
    "      loss = criterion(outputs, labels)\n",
    "      loss.backward()\n",
    "      optimizer.step()\n",
    "      Loss += loss\n",
    "    print(\"Accuracy : \",num_correct/tot)\n",
    "    print(\"Loss : \",loss)\n",
    "    if((num_correct/tot) - prev < 0.001):\n",
    "      flag=1\n",
    "    prev =  num_correct/tot\n",
    "    with torch.no_grad():\n",
    "      correct = 0\n",
    "      total = 0\n",
    "      for i,data in enumerate(testdata):\n",
    "          images = data[0]\n",
    "          labels = data[1]\n",
    "          images = images.to(device)\n",
    "          labels = labels.to(device)\n",
    "          for j in range(len(images)):\n",
    "             labels[j] = test_labels[testnum]\n",
    "             testnum+=1\n",
    "          outputs = model(images)\n",
    "          _, predicted = torch.max(outputs.data, 1)\n",
    "          total += labels.size(0)\n",
    "          correct += (predicted == labels).sum().item() \n",
    "      test_accuracies.append(100*correct/total)\n",
    "      if flag==1:\n",
    "        alex_overfitcounts.append(count+1)\n",
    "        alex_testaccuracies.append(100*correct/total)\n",
    "        break\n",
    "      print(\"Accuracy of the on test images : \",100 * correct / total)\n",
    "      count+=1\n",
    "      if flag==1:\n",
    "        break"
   ]
  },
  {
   "cell_type": "code",
   "execution_count": 90,
   "metadata": {
    "colab": {
     "base_uri": "https://localhost:8080/"
    },
    "id": "h0idHxDUgHep",
    "outputId": "792f5149-3169-4794-d98c-a5c4d74ddc40"
   },
   "outputs": [
    {
     "name": "stdout",
     "output_type": "stream",
     "text": [
      "-------------------------------------\n",
      "Accuracy :  0.1986\n",
      "Loss :  tensor(2.1167, grad_fn=<NllLossBackward0>)\n",
      "Accuracy of the on test images :  27.7\n",
      "Accuracy :  0.3078\n",
      "Loss :  tensor(1.5965, grad_fn=<NllLossBackward0>)\n",
      "Accuracy of the on test images :  33.5\n",
      "Accuracy :  0.3692\n",
      "Loss :  tensor(1.3188, grad_fn=<NllLossBackward0>)\n",
      "Accuracy of the on test images :  36.7\n",
      "Accuracy :  0.418\n",
      "Loss :  tensor(1.1798, grad_fn=<NllLossBackward0>)\n",
      "Accuracy of the on test images :  37.8\n",
      "Accuracy :  0.4688\n",
      "Loss :  tensor(1.0004, grad_fn=<NllLossBackward0>)\n",
      "Accuracy of the on test images :  39.7\n",
      "Accuracy :  0.5174\n",
      "Loss :  tensor(0.8303, grad_fn=<NllLossBackward0>)\n",
      "Accuracy of the on test images :  40.8\n",
      "Accuracy :  0.5592\n",
      "Loss :  tensor(0.7214, grad_fn=<NllLossBackward0>)\n",
      "Accuracy of the on test images :  40.7\n",
      "Accuracy :  0.6098\n",
      "Loss :  tensor(0.5553, grad_fn=<NllLossBackward0>)\n",
      "Accuracy of the on test images :  39.1\n",
      "Accuracy :  0.6554\n",
      "Loss :  tensor(0.4986, grad_fn=<NllLossBackward0>)\n",
      "Accuracy of the on test images :  37.3\n",
      "Accuracy :  0.6872\n",
      "Loss :  tensor(0.3618, grad_fn=<NllLossBackward0>)\n",
      "Accuracy of the on test images :  39.9\n",
      "Accuracy :  0.7064\n",
      "Loss :  tensor(0.6214, grad_fn=<NllLossBackward0>)\n",
      "Accuracy of the on test images :  40.3\n",
      "Accuracy :  0.7186\n",
      "Loss :  tensor(0.2202, grad_fn=<NllLossBackward0>)\n",
      "Accuracy of the on test images :  39.2\n",
      "Accuracy :  0.757\n",
      "Loss :  tensor(0.1647, grad_fn=<NllLossBackward0>)\n",
      "Accuracy of the on test images :  38.6\n",
      "Accuracy :  0.757\n",
      "Loss :  tensor(0.1313, grad_fn=<NllLossBackward0>)\n",
      "-------------------------------------\n",
      "Accuracy :  0.1834\n",
      "Loss :  tensor(2.1216, grad_fn=<NllLossBackward0>)\n",
      "Accuracy of the on test images :  22.3\n",
      "Accuracy :  0.2646\n",
      "Loss :  tensor(1.7412, grad_fn=<NllLossBackward0>)\n",
      "Accuracy of the on test images :  29.7\n",
      "Accuracy :  0.3032\n",
      "Loss :  tensor(1.4518, grad_fn=<NllLossBackward0>)\n",
      "Accuracy of the on test images :  30.3\n",
      "Accuracy :  0.3434\n",
      "Loss :  tensor(1.2214, grad_fn=<NllLossBackward0>)\n",
      "Accuracy of the on test images :  30.6\n",
      "Accuracy :  0.3804\n",
      "Loss :  tensor(1.0420, grad_fn=<NllLossBackward0>)\n",
      "Accuracy of the on test images :  32.2\n",
      "Accuracy :  0.4172\n",
      "Loss :  tensor(0.8793, grad_fn=<NllLossBackward0>)\n",
      "Accuracy of the on test images :  33.4\n",
      "Accuracy :  0.4614\n",
      "Loss :  tensor(0.7286, grad_fn=<NllLossBackward0>)\n",
      "Accuracy of the on test images :  34.6\n",
      "Accuracy :  0.5058\n",
      "Loss :  tensor(0.5374, grad_fn=<NllLossBackward0>)\n",
      "Accuracy of the on test images :  32.6\n",
      "Accuracy :  0.5492\n",
      "Loss :  tensor(0.4366, grad_fn=<NllLossBackward0>)\n",
      "Accuracy of the on test images :  32.2\n",
      "Accuracy :  0.6022\n",
      "Loss :  tensor(0.3004, grad_fn=<NllLossBackward0>)\n",
      "Accuracy of the on test images :  32.7\n",
      "Accuracy :  0.6496\n",
      "Loss :  tensor(0.3196, grad_fn=<NllLossBackward0>)\n",
      "Accuracy of the on test images :  31.5\n",
      "Accuracy :  0.6708\n",
      "Loss :  tensor(0.2059, grad_fn=<NllLossBackward0>)\n",
      "Accuracy of the on test images :  29.3\n",
      "Accuracy :  0.6836\n",
      "Loss :  tensor(0.3428, grad_fn=<NllLossBackward0>)\n",
      "Accuracy of the on test images :  28.5\n",
      "Accuracy :  0.697\n",
      "Loss :  tensor(0.5740, grad_fn=<NllLossBackward0>)\n",
      "Accuracy of the on test images :  29.0\n",
      "Accuracy :  0.7498\n",
      "Loss :  tensor(0.1113, grad_fn=<NllLossBackward0>)\n",
      "Accuracy of the on test images :  30.8\n",
      "Accuracy :  0.7752\n",
      "Loss :  tensor(0.0713, grad_fn=<NllLossBackward0>)\n",
      "Accuracy of the on test images :  30.9\n",
      "Accuracy :  0.7904\n",
      "Loss :  tensor(0.3499, grad_fn=<NllLossBackward0>)\n",
      "Accuracy of the on test images :  29.2\n",
      "Accuracy :  0.802\n",
      "Loss :  tensor(0.1731, grad_fn=<NllLossBackward0>)\n",
      "Accuracy of the on test images :  29.4\n",
      "Accuracy :  0.7986\n",
      "Loss :  tensor(0.0735, grad_fn=<NllLossBackward0>)\n",
      "-------------------------------------\n",
      "Accuracy :  0.139\n",
      "Loss :  tensor(2.2891, grad_fn=<NllLossBackward0>)\n",
      "Accuracy of the on test images :  19.4\n",
      "Accuracy :  0.2082\n",
      "Loss :  tensor(2.2084, grad_fn=<NllLossBackward0>)\n",
      "Accuracy of the on test images :  21.2\n",
      "Accuracy :  0.2516\n",
      "Loss :  tensor(2.0254, grad_fn=<NllLossBackward0>)\n",
      "Accuracy of the on test images :  22.1\n",
      "Accuracy :  0.2752\n",
      "Loss :  tensor(1.8245, grad_fn=<NllLossBackward0>)\n",
      "Accuracy of the on test images :  23.1\n",
      "Accuracy :  0.2982\n",
      "Loss :  tensor(1.6458, grad_fn=<NllLossBackward0>)\n",
      "Accuracy of the on test images :  25.6\n",
      "Accuracy :  0.3272\n",
      "Loss :  tensor(1.4660, grad_fn=<NllLossBackward0>)\n",
      "Accuracy of the on test images :  25.1\n",
      "Accuracy :  0.3648\n",
      "Loss :  tensor(1.2210, grad_fn=<NllLossBackward0>)\n",
      "Accuracy of the on test images :  25.3\n",
      "Accuracy :  0.4118\n",
      "Loss :  tensor(0.9869, grad_fn=<NllLossBackward0>)\n",
      "Accuracy of the on test images :  24.0\n",
      "Accuracy :  0.4536\n",
      "Loss :  tensor(0.7399, grad_fn=<NllLossBackward0>)\n",
      "Accuracy of the on test images :  22.7\n",
      "Accuracy :  0.4978\n",
      "Loss :  tensor(0.5398, grad_fn=<NllLossBackward0>)\n",
      "Accuracy of the on test images :  21.0\n",
      "Accuracy :  0.5458\n",
      "Loss :  tensor(0.5976, grad_fn=<NllLossBackward0>)\n",
      "Accuracy of the on test images :  21.2\n",
      "Accuracy :  0.579\n",
      "Loss :  tensor(0.3882, grad_fn=<NllLossBackward0>)\n",
      "Accuracy of the on test images :  18.5\n",
      "Accuracy :  0.6078\n",
      "Loss :  tensor(0.3584, grad_fn=<NllLossBackward0>)\n",
      "Accuracy of the on test images :  20.7\n",
      "Accuracy :  0.6264\n",
      "Loss :  tensor(0.2626, grad_fn=<NllLossBackward0>)\n",
      "Accuracy of the on test images :  18.2\n",
      "Accuracy :  0.6622\n",
      "Loss :  tensor(0.2901, grad_fn=<NllLossBackward0>)\n",
      "Accuracy of the on test images :  20.5\n",
      "Accuracy :  0.704\n",
      "Loss :  tensor(0.2250, grad_fn=<NllLossBackward0>)\n",
      "Accuracy of the on test images :  18.7\n",
      "Accuracy :  0.7058\n",
      "Loss :  tensor(0.2547, grad_fn=<NllLossBackward0>)\n",
      "Accuracy of the on test images :  20.0\n",
      "Accuracy :  0.7412\n",
      "Loss :  tensor(0.1815, grad_fn=<NllLossBackward0>)\n",
      "Accuracy of the on test images :  19.7\n",
      "Accuracy :  0.7678\n",
      "Loss :  tensor(0.3422, grad_fn=<NllLossBackward0>)\n",
      "Accuracy of the on test images :  21.9\n",
      "Accuracy :  0.7922\n",
      "Loss :  tensor(0.0698, grad_fn=<NllLossBackward0>)\n",
      "Accuracy of the on test images :  22.1\n",
      "Accuracy :  0.8102\n",
      "Loss :  tensor(0.2325, grad_fn=<NllLossBackward0>)\n",
      "Accuracy of the on test images :  19.9\n",
      "Accuracy :  0.8066\n",
      "Loss :  tensor(0.3709, grad_fn=<NllLossBackward0>)\n",
      "-------------------------------------\n",
      "Accuracy :  0.1196\n",
      "Loss :  tensor(2.4109, grad_fn=<NllLossBackward0>)\n",
      "Accuracy of the on test images :  14.7\n",
      "Accuracy :  0.1578\n",
      "Loss :  tensor(2.4116, grad_fn=<NllLossBackward0>)\n",
      "Accuracy of the on test images :  15.7\n",
      "Accuracy :  0.171\n",
      "Loss :  tensor(2.3292, grad_fn=<NllLossBackward0>)\n",
      "Accuracy of the on test images :  16.1\n",
      "Accuracy :  0.1934\n",
      "Loss :  tensor(2.1838, grad_fn=<NllLossBackward0>)\n",
      "Accuracy of the on test images :  16.4\n",
      "Accuracy :  0.2182\n",
      "Loss :  tensor(1.9812, grad_fn=<NllLossBackward0>)\n",
      "Accuracy of the on test images :  16.4\n",
      "Accuracy :  0.242\n",
      "Loss :  tensor(1.7763, grad_fn=<NllLossBackward0>)\n",
      "Accuracy of the on test images :  16.9\n",
      "Accuracy :  0.2714\n",
      "Loss :  tensor(1.5685, grad_fn=<NllLossBackward0>)\n",
      "Accuracy of the on test images :  16.9\n",
      "Accuracy :  0.3012\n",
      "Loss :  tensor(1.3644, grad_fn=<NllLossBackward0>)\n",
      "Accuracy of the on test images :  16.0\n",
      "Accuracy :  0.338\n",
      "Loss :  tensor(1.1340, grad_fn=<NllLossBackward0>)\n",
      "Accuracy of the on test images :  15.5\n",
      "Accuracy :  0.3828\n",
      "Loss :  tensor(0.9934, grad_fn=<NllLossBackward0>)\n",
      "Accuracy of the on test images :  15.2\n",
      "Accuracy :  0.4294\n",
      "Loss :  tensor(0.7975, grad_fn=<NllLossBackward0>)\n",
      "Accuracy of the on test images :  14.3\n",
      "Accuracy :  0.4804\n",
      "Loss :  tensor(0.7357, grad_fn=<NllLossBackward0>)\n",
      "Accuracy of the on test images :  14.2\n",
      "Accuracy :  0.545\n",
      "Loss :  tensor(0.5817, grad_fn=<NllLossBackward0>)\n",
      "Accuracy of the on test images :  13.6\n",
      "Accuracy :  0.5826\n",
      "Loss :  tensor(0.4814, grad_fn=<NllLossBackward0>)\n",
      "Accuracy of the on test images :  13.1\n",
      "Accuracy :  0.5824\n",
      "Loss :  tensor(0.5842, grad_fn=<NllLossBackward0>)\n",
      "-------------------------------------\n",
      "Accuracy :  0.105\n",
      "Loss :  tensor(2.3270, grad_fn=<NllLossBackward0>)\n",
      "Accuracy of the on test images :  10.9\n",
      "Accuracy :  0.1318\n",
      "Loss :  tensor(2.3199, grad_fn=<NllLossBackward0>)\n",
      "Accuracy of the on test images :  13.0\n",
      "Accuracy :  0.146\n",
      "Loss :  tensor(2.2960, grad_fn=<NllLossBackward0>)\n",
      "Accuracy of the on test images :  12.5\n",
      "Accuracy :  0.1568\n",
      "Loss :  tensor(2.2341, grad_fn=<NllLossBackward0>)\n",
      "Accuracy of the on test images :  13.4\n",
      "Accuracy :  0.1726\n",
      "Loss :  tensor(2.1099, grad_fn=<NllLossBackward0>)\n",
      "Accuracy of the on test images :  14.1\n",
      "Accuracy :  0.1896\n",
      "Loss :  tensor(1.9003, grad_fn=<NllLossBackward0>)\n",
      "Accuracy of the on test images :  12.8\n",
      "Accuracy :  0.2098\n",
      "Loss :  tensor(1.6600, grad_fn=<NllLossBackward0>)\n",
      "Accuracy of the on test images :  12.5\n",
      "Accuracy :  0.2374\n",
      "Loss :  tensor(1.3276, grad_fn=<NllLossBackward0>)\n",
      "Accuracy of the on test images :  12.3\n",
      "Accuracy :  0.2662\n",
      "Loss :  tensor(1.0616, grad_fn=<NllLossBackward0>)\n",
      "Accuracy of the on test images :  13.3\n",
      "Accuracy :  0.3042\n",
      "Loss :  tensor(0.9141, grad_fn=<NllLossBackward0>)\n",
      "Accuracy of the on test images :  14.2\n",
      "Accuracy :  0.359\n",
      "Loss :  tensor(0.6671, grad_fn=<NllLossBackward0>)\n",
      "Accuracy of the on test images :  12.8\n",
      "Accuracy :  0.4106\n",
      "Loss :  tensor(0.5540, grad_fn=<NllLossBackward0>)\n",
      "Accuracy of the on test images :  12.7\n",
      "Accuracy :  0.4858\n",
      "Loss :  tensor(0.3264, grad_fn=<NllLossBackward0>)\n",
      "Accuracy of the on test images :  12.5\n",
      "Accuracy :  0.5414\n",
      "Loss :  tensor(0.2200, grad_fn=<NllLossBackward0>)\n",
      "Accuracy of the on test images :  10.7\n",
      "Accuracy :  0.5724\n",
      "Loss :  tensor(0.2729, grad_fn=<NllLossBackward0>)\n",
      "Accuracy of the on test images :  12.9\n",
      "Accuracy :  0.5858\n",
      "Loss :  tensor(0.3630, grad_fn=<NllLossBackward0>)\n",
      "Accuracy of the on test images :  11.2\n",
      "Accuracy :  0.5992\n",
      "Loss :  tensor(0.1985, grad_fn=<NllLossBackward0>)\n",
      "Accuracy of the on test images :  10.9\n",
      "Accuracy :  0.6402\n",
      "Loss :  tensor(0.1443, grad_fn=<NllLossBackward0>)\n",
      "Accuracy of the on test images :  11.4\n",
      "Accuracy :  0.6728\n",
      "Loss :  tensor(0.1702, grad_fn=<NllLossBackward0>)\n",
      "Accuracy of the on test images :  12.4\n",
      "Accuracy :  0.6856\n",
      "Loss :  tensor(0.8178, grad_fn=<NllLossBackward0>)\n",
      "Accuracy of the on test images :  10.8\n",
      "Accuracy :  0.7172\n",
      "Loss :  tensor(0.0133, grad_fn=<NllLossBackward0>)\n",
      "Accuracy of the on test images :  13.2\n",
      "Accuracy :  0.7434\n",
      "Loss :  tensor(0.1878, grad_fn=<NllLossBackward0>)\n",
      "Accuracy of the on test images :  10.7\n",
      "Accuracy :  0.7564\n",
      "Loss :  tensor(0.0582, grad_fn=<NllLossBackward0>)\n",
      "Accuracy of the on test images :  12.8\n",
      "Accuracy :  0.7864\n",
      "Loss :  tensor(0.0102, grad_fn=<NllLossBackward0>)\n",
      "Accuracy of the on test images :  12.1\n",
      "Accuracy :  0.8044\n",
      "Loss :  tensor(0.1350, grad_fn=<NllLossBackward0>)\n",
      "Accuracy of the on test images :  12.1\n",
      "Accuracy :  0.832\n",
      "Loss :  tensor(0.0029, grad_fn=<NllLossBackward0>)\n",
      "Accuracy of the on test images :  11.2\n",
      "Accuracy :  0.8324\n",
      "Loss :  tensor(0.0210, grad_fn=<NllLossBackward0>)\n",
      "-------------------------------------\n",
      "Accuracy :  0.102\n",
      "Loss :  tensor(2.3285, grad_fn=<NllLossBackward0>)\n",
      "Accuracy of the on test images :  12.2\n",
      "Accuracy :  0.1166\n",
      "Loss :  tensor(2.3066, grad_fn=<NllLossBackward0>)\n",
      "Accuracy of the on test images :  12.2\n",
      "Accuracy :  0.13\n",
      "Loss :  tensor(2.2871, grad_fn=<NllLossBackward0>)\n",
      "Accuracy of the on test images :  10.9\n",
      "Accuracy :  0.145\n",
      "Loss :  tensor(2.2561, grad_fn=<NllLossBackward0>)\n",
      "Accuracy of the on test images :  9.4\n",
      "Accuracy :  0.163\n",
      "Loss :  tensor(2.1969, grad_fn=<NllLossBackward0>)\n",
      "Accuracy of the on test images :  9.6\n",
      "Accuracy :  0.1734\n",
      "Loss :  tensor(2.0754, grad_fn=<NllLossBackward0>)\n",
      "Accuracy of the on test images :  9.5\n",
      "Accuracy :  0.1916\n",
      "Loss :  tensor(1.8609, grad_fn=<NllLossBackward0>)\n",
      "Accuracy of the on test images :  9.5\n",
      "Accuracy :  0.2146\n",
      "Loss :  tensor(1.5474, grad_fn=<NllLossBackward0>)\n",
      "Accuracy of the on test images :  9.3\n",
      "Accuracy :  0.2494\n",
      "Loss :  tensor(1.2806, grad_fn=<NllLossBackward0>)\n",
      "Accuracy of the on test images :  9.4\n",
      "Accuracy :  0.2822\n",
      "Loss :  tensor(1.0032, grad_fn=<NllLossBackward0>)\n",
      "Accuracy of the on test images :  8.7\n",
      "Accuracy :  0.329\n",
      "Loss :  tensor(0.8358, grad_fn=<NllLossBackward0>)\n",
      "Accuracy of the on test images :  9.1\n",
      "Accuracy :  0.3878\n",
      "Loss :  tensor(0.6710, grad_fn=<NllLossBackward0>)\n",
      "Accuracy of the on test images :  8.9\n",
      "Accuracy :  0.4448\n",
      "Loss :  tensor(0.5299, grad_fn=<NllLossBackward0>)\n",
      "Accuracy of the on test images :  8.7\n",
      "Accuracy :  0.514\n",
      "Loss :  tensor(0.5518, grad_fn=<NllLossBackward0>)\n",
      "Accuracy of the on test images :  9.8\n",
      "Accuracy :  0.5542\n",
      "Loss :  tensor(0.4374, grad_fn=<NllLossBackward0>)\n",
      "Accuracy of the on test images :  9.4\n",
      "Accuracy :  0.5776\n",
      "Loss :  tensor(0.4004, grad_fn=<NllLossBackward0>)\n",
      "Accuracy of the on test images :  9.8\n",
      "Accuracy :  0.5794\n",
      "Loss :  tensor(0.3795, grad_fn=<NllLossBackward0>)\n",
      "Accuracy of the on test images :  11.0\n",
      "Accuracy :  0.6246\n",
      "Loss :  tensor(0.4340, grad_fn=<NllLossBackward0>)\n",
      "Accuracy of the on test images :  10.7\n",
      "Accuracy :  0.6538\n",
      "Loss :  tensor(0.3284, grad_fn=<NllLossBackward0>)\n",
      "Accuracy of the on test images :  9.4\n",
      "Accuracy :  0.6772\n",
      "Loss :  tensor(0.7819, grad_fn=<NllLossBackward0>)\n",
      "Accuracy of the on test images :  8.1\n",
      "Accuracy :  0.7022\n",
      "Loss :  tensor(0.2684, grad_fn=<NllLossBackward0>)\n",
      "Accuracy of the on test images :  8.4\n",
      "Accuracy :  0.727\n",
      "Loss :  tensor(0.2817, grad_fn=<NllLossBackward0>)\n",
      "Accuracy of the on test images :  8.6\n",
      "Accuracy :  0.7616\n",
      "Loss :  tensor(0.1612, grad_fn=<NllLossBackward0>)\n",
      "Accuracy of the on test images :  9.1\n",
      "Accuracy :  0.7664\n",
      "Loss :  tensor(0.2319, grad_fn=<NllLossBackward0>)\n",
      "Accuracy of the on test images :  9.3\n",
      "Accuracy :  0.7936\n",
      "Loss :  tensor(0.1945, grad_fn=<NllLossBackward0>)\n",
      "Accuracy of the on test images :  7.0\n",
      "Accuracy :  0.8044\n",
      "Loss :  tensor(0.2404, grad_fn=<NllLossBackward0>)\n",
      "Accuracy of the on test images :  9.2\n",
      "Accuracy :  0.8066\n",
      "Loss :  tensor(0.3867, grad_fn=<NllLossBackward0>)\n",
      "Accuracy of the on test images :  9.6\n",
      "Accuracy :  0.8228\n",
      "Loss :  tensor(0.1034, grad_fn=<NllLossBackward0>)\n",
      "Accuracy of the on test images :  9.2\n",
      "Accuracy :  0.8476\n",
      "Loss :  tensor(0.1180, grad_fn=<NllLossBackward0>)\n",
      "Accuracy of the on test images :  9.8\n",
      "Accuracy :  0.865\n",
      "Loss :  tensor(0.3517, grad_fn=<NllLossBackward0>)\n",
      "Accuracy of the on test images :  11.1\n",
      "Accuracy :  0.8418\n",
      "Loss :  tensor(0.2990, grad_fn=<NllLossBackward0>)\n"
     ]
    }
   ],
   "source": [
    "per = 0\n",
    "for i in range(6):\n",
    "  model = MLP_3_512(no_classes).to(device)\n",
    "  optimizer = torch.optim.SGD(model.parameters(),lr=0.01,momentum = 0.9)\n",
    "  train_labels = torch.zeros(len(traindata)*batchsize)\n",
    "  test_labels = torch.zeros(len(testdata)*batchsize)\n",
    "  trainnum = 0\n",
    "  testnum = 0\n",
    "  for i,data in enumerate(traindata):\n",
    "    for j in range(len(data[1])):\n",
    "      train_labels[trainnum] = data[1][j]\n",
    "      trainnum+=1\n",
    "  for i,data in enumerate(testdata):\n",
    "    for j in range(len(data[1])):\n",
    "      test_labels[testnum] = data[1][j]\n",
    "      testnum+=1\n",
    "  print(\"-------------------------------------\")\n",
    "  localtraining_data = traindata\n",
    "  localtest_data = testdata\n",
    "  if per!=0:\n",
    "    trainls = random.sample(range(0,(len(traindata)*batchsize)),int((len(traindata)*batchsize)*per/100))\n",
    "    testls = random.sample(range(0,(len(testdata)*batchsize)),int((len(testdata)*batchsize)*per/100))\n",
    "    trainls.sort()\n",
    "    testls.sort()\n",
    "    for i in range(len(trainls)):\n",
    "      train_labels[trainls[i]] = random.randint(0,9)\n",
    "    for i in range(len(testls)):\n",
    "      test_labels[testls[i]] = random.randint(0,9)\n",
    "  training(model,localtraining_data,localtest_data,optimizer,train_labels,test_labels)\n",
    "  per+=20"
   ]
  },
  {
   "cell_type": "code",
   "execution_count": 93,
   "metadata": {
    "colab": {
     "base_uri": "https://localhost:8080/",
     "height": 312
    },
    "id": "4IrKFAH9nvu4",
    "outputId": "28d0a132-0d97-4ca4-8162-968e6366ada4"
   },
   "outputs": [
    {
     "data": {
      "text/plain": [
       "Text(0.5, 1.0, 'MLP')"
      ]
     },
     "execution_count": 93,
     "metadata": {},
     "output_type": "execute_result"
    },
    {
     "data": {
      "image/png": "[encoded data removed]",
      "text/plain": [
       "<Figure size 432x288 with 1 Axes>"
      ]
     },
     "metadata": {
      "needs_background": "light"
     },
     "output_type": "display_data"
    }
   ],
   "source": [
    "p = [1,2,3,4,5,6]\n",
    "plt.plot(p,alex_overfitcounts)\n",
    "plt.xlabel(\"Corruption Rate\")\n",
    "plt.ylabel(\"Overfitting Counts\")\n",
    "plt.title(\"MLP\")"
   ]
  },
  {
   "cell_type": "code",
   "execution_count": 94,
   "metadata": {
    "colab": {
     "base_uri": "https://localhost:8080/",
     "height": 312
    },
    "id": "G7oAWizQn2Nb",
    "outputId": "3450bf25-b4e8-44a8-c245-57a0c49b4166"
   },
   "outputs": [
    {
     "data": {
      "text/plain": [
       "Text(0.5, 1.0, 'MLP')"
      ]
     },
     "execution_count": 94,
     "metadata": {},
     "output_type": "execute_result"
    },
    {
     "data": {
      "image/png": "[encoded data removed]",
      "text/plain": [
       "<Figure size 432x288 with 1 Axes>"
      ]
     },
     "metadata": {
      "needs_background": "light"
     },
     "output_type": "display_data"
    }
   ],
   "source": [
    "plt.plot(p,alex_testaccuracies)\n",
    "plt.xlabel(\"Corruption Rate\")\n",
    "plt.ylabel(\"Test Accuracies\")\n",
    "plt.title(\"MLP\")"
   ]
  }
 ],
 "metadata": {
  "colab": {
   "provenance": []
  },
  "kernelspec": {
   "display_name": "Python 3 (ipykernel)",
   "language": "python",
   "name": "python3"
  },
  "language_info": {
   "codemirror_mode": {
    "name": "ipython",
    "version": 3
   },
   "file_extension": ".py",
   "mimetype": "text/x-python",
   "name": "python",
   "nbconvert_exporter": "python",
   "pygments_lexer": "ipython3",
   "version": "3.8.10"
  }
 },
 "nbformat": 4,
 "nbformat_minor": 1
}
