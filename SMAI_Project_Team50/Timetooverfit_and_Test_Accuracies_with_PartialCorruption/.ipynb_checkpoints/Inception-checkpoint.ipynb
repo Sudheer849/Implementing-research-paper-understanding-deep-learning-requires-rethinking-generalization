{
 "cells": [
  {
   "cell_type": "markdown",
   "metadata": {
    "id": "RWsuQWpnIlaj"
   },
   "source": [
    "Inception on CIFAR10 with weightdecay, dropout"
   ]
  },
  {
   "cell_type": "code",
   "execution_count": 1,
   "metadata": {
    "id": "rqU6WPHDpJMx"
   },
   "outputs": [],
   "source": [
    "import torch\n",
    "import numpy as np\n",
    "import pandas as pd\n",
    "import torch.nn as nn\n",
    "import torch.optim as optim\n",
    "import os\n",
    "import matplotlib.pyplot as plt\n",
    "import torch.nn.functional as F\n",
    "%matplotlib inline\n",
    "import random"
   ]
  },
  {
   "cell_type": "code",
   "execution_count": 14,
   "metadata": {
    "id": "3Woc7IPBkiuN"
   },
   "outputs": [],
   "source": [
    "import torchvision\n",
    "import torchvision.transforms as transforms\n",
    "from torchvision import models"
   ]
  },
  {
   "cell_type": "code",
   "execution_count": 3,
   "metadata": {
    "colab": {
     "base_uri": "https://localhost:8080/"
    },
    "id": "FhNSXwptkllK",
    "outputId": "c35482cf-8e09-4c87-d2f3-4946f20f2667"
   },
   "outputs": [
    {
     "name": "stdout",
     "output_type": "stream",
     "text": [
      "Device available now: cuda\n"
     ]
    }
   ],
   "source": [
    "device = torch.device('cuda' if torch.cuda.is_available() else 'cpu')\n",
    "print('Device available now:', device)"
   ]
  },
  {
   "cell_type": "code",
   "execution_count": 4,
   "metadata": {
    "id": "5e-spkY0koJu"
   },
   "outputs": [],
   "source": [
    "image_transforms = transforms.Compose([\n",
    "    transforms.Resize(299),\n",
    "    transforms.CenterCrop(299),\n",
    "    transforms.ToTensor(),\n",
    "    transforms.Normalize(mean=[0.485, 0.456, 0.406], std=[0.229, 0.224, 0.225]),\n",
    "])"
   ]
  },
  {
   "cell_type": "code",
   "execution_count": 5,
   "metadata": {
    "id": "5-SNTV_Ckqlx"
   },
   "outputs": [],
   "source": [
    "batchsize = 32\n",
    "rowsize = 28\n",
    "colsize = 28\n",
    "inchannels = 3\n",
    "kernelsize = 5\n",
    "stride = 1\n",
    "padding = 0\n",
    "poolsize = 3\n",
    "fc_size1 = 384\n",
    "fc_size2 = 192\n",
    "no_classes = 10\n",
    "epochs = 100\n",
    "overfit_accuracy = 90"
   ]
  },
  {
   "cell_type": "code",
   "execution_count": 6,
   "metadata": {
    "id": "K097mYYE1tbs"
   },
   "outputs": [],
   "source": [
    "alex_overfitcounts = []\n",
    "alex_testaccuracies = []\n",
    "     "
   ]
  },
  {
   "cell_type": "code",
   "execution_count": 7,
   "metadata": {
    "colab": {
     "base_uri": "https://localhost:8080/",
     "height": 85,
     "referenced_widgets": [
      "25011be4192641fcbdded4a1aa7b9591",
      "88600774bf684c46bc42c30a5f892a9c",
      "c25ae1deb17f454491c9c087929b80a9",
      "90a9bcd4f3204385a882c62b067f247b",
      "beea12bb829a4e41ae626764e59ff099",
      "2adab9d014da43ea934c1110f86fc4f4",
      "e6372742a0484e5eb0b7098a3a534ee8",
      "0f0864a49f22483289789b468750df3b",
      "1840e372bef24294aab1cc2bcc1594d4",
      "e28ae8a19b3a4b79bbca0b6d648fb5c1",
      "c1430aad4ed24c5d98d7bf7cf25dcb96"
     ]
    },
    "id": "ugVj0jC9ksz0",
    "outputId": "5a6efb02-e63d-4b25-f055-a24875aaebfe"
   },
   "outputs": [
    {
     "name": "stdout",
     "output_type": "stream",
     "text": [
      "Downloading https://www.cs.toronto.edu/~kriz/cifar-10-python.tar.gz to ./cifar-10-python.tar.gz\n"
     ]
    },
    {
     "data": {
      "application/vnd.jupyter.widget-view+json": {
       "model_id": "25011be4192641fcbdded4a1aa7b9591",
       "version_major": 2,
       "version_minor": 0
      },
      "text/plain": [
       "  0%|          | 0/170498071 [00:00<?, ?it/s]"
      ]
     },
     "metadata": {},
     "output_type": "display_data"
    },
    {
     "name": "stdout",
     "output_type": "stream",
     "text": [
      "Extracting ./cifar-10-python.tar.gz to ./\n"
     ]
    }
   ],
   "source": [
    "\n",
    "train = torchvision.datasets.CIFAR10(root='./', train=True, download=True, transform=image_transforms)\n",
    "test = torchvision.datasets.CIFAR10(root='./', train=False, transform=image_transforms)\n",
    "     "
   ]
  },
  {
   "cell_type": "code",
   "execution_count": 8,
   "metadata": {
    "id": "6TGqHQhb17uh"
   },
   "outputs": [],
   "source": [
    "trainindices = list(range(0, len(train), 50))\n",
    "testindices = list(range(0, len(test),50))\n",
    "trainset = torch.utils.data.Subset(train,trainindices)\n",
    "testset = torch.utils.data.Subset(test,testindices)\n",
    "     "
   ]
  },
  {
   "cell_type": "code",
   "execution_count": 9,
   "metadata": {
    "id": "4cExKgo6kxmz"
   },
   "outputs": [],
   "source": [
    "traindata = torch.utils.data.DataLoader(trainset,batch_size=batchsize, shuffle=False, num_workers=2,pin_memory=True)\n",
    "testdata = torch.utils.data.DataLoader(testset,batch_size=batchsize, shuffle=False, num_workers=2,pin_memory=True)\n",
    "     "
   ]
  },
  {
   "cell_type": "code",
   "execution_count": 10,
   "metadata": {
    "id": "rRe_0Xn6kzV2"
   },
   "outputs": [],
   "source": [
    "train_labels = torch.zeros(len(traindata)*batchsize)\n",
    "test_labels = torch.zeros(len(testdata)*batchsize)\n",
    "trainnum = 0\n",
    "testnum = 0\n",
    "for i,data in enumerate(traindata):\n",
    "  for j in range(len(data[1])):\n",
    "    train_labels[trainnum] = data[1][j]\n",
    "    trainnum+=1\n",
    "for i,data in enumerate(testdata):\n",
    "  for j in range(len(data[1])):\n",
    "    test_labels[testnum] = data[1][j]\n",
    "    testnum+=1\n",
    "  "
   ]
  },
  {
   "cell_type": "code",
   "execution_count": 11,
   "metadata": {
    "id": "w7qYLIyEk3B5"
   },
   "outputs": [],
   "source": [
    "transform_inception = transforms.Resize((299,299))\n",
    "criterion = nn.CrossEntropyLoss().to(device)"
   ]
  },
  {
   "cell_type": "code",
   "execution_count": 12,
   "metadata": {
    "id": "dXn2Fyssk5Aj"
   },
   "outputs": [],
   "source": [
    "# def training(model,traindata,testdata):\n",
    "def training(model,traindata,testdata,optimizer,train_labels,test_labels):\n",
    "  test_accuracies = []\n",
    "  test_accuracies.append(0)\n",
    "  test_accuracies.append(0)\n",
    "  test_accuracies.append(0)\n",
    "  count=0\n",
    "  flag=0\n",
    "  prev = 0\n",
    "  for ep in range(epochs):\n",
    "    Loss = 0\n",
    "    num_correct=0\n",
    "    tot = 0\n",
    "    testnum = 0\n",
    "    trainnum = 0\n",
    "    for i,data in enumerate(traindata):\n",
    "      x_data = data[0].to(device)\n",
    "      labels = data[1].to(device)\n",
    "      for j in range(len(x_data)):\n",
    "        labels[j] = train_labels[trainnum]\n",
    "        trainnum+=1\n",
    "      optimizer.zero_grad()\n",
    "      outputs = model(x_data)\n",
    "      _, pred = torch.max(outputs.data, 1)\n",
    "      num_correct += (pred == labels).sum().item()\n",
    "      tot += labels.size(0)\n",
    "      loss = criterion(outputs, labels)\n",
    "      loss.backward()\n",
    "      optimizer.step()\n",
    "      Loss += loss\n",
    "    print(\"Accuracy : \",num_correct/tot)\n",
    "    print(\"Loss : \",loss)\n",
    "    if((num_correct/tot) - prev < 0.001):\n",
    "      flag=1\n",
    "    prev =  num_correct/tot\n",
    "    with torch.no_grad():\n",
    "      correct = 0\n",
    "      total = 0\n",
    "      for i,data in enumerate(testdata):\n",
    "          images = data[0]\n",
    "          labels = data[1]\n",
    "          images = images.to(device)\n",
    "          labels = labels.to(device)\n",
    "          for j in range(len(images)):\n",
    "             labels[j] = test_labels[testnum]\n",
    "             testnum+=1\n",
    "          outputs = model(images)\n",
    "          _, predicted = torch.max(outputs.data, 1)\n",
    "          total += labels.size(0)\n",
    "          correct += (predicted == labels).sum().item() \n",
    "      test_accuracies.append(100*correct/total)\n",
    "      if flag==1:\n",
    "        alex_overfitcounts.append(count+1)\n",
    "        alex_testaccuracies.append(100*correct/total)\n",
    "        break\n",
    "      print(\"Accuracy of the on test images : \",100 * correct / total)\n",
    "      count+=1\n",
    "      if flag==1:\n",
    "        break\n",
    "     "
   ]
  },
  {
   "cell_type": "code",
   "execution_count": 15,
   "metadata": {
    "colab": {
     "base_uri": "https://localhost:8080/"
    },
    "id": "lWc-6ezrk6ql",
    "outputId": "391cfcd4-7a30-4b96-ccdf-c923aaa958d5"
   },
   "outputs": [
    {
     "name": "stderr",
     "output_type": "stream",
     "text": [
      "/usr/local/lib/python3.8/dist-packages/torchvision/models/inception.py:43: FutureWarning: The default weight initialization of inception_v3 will be changed in future releases of torchvision. If you wish to keep the old behavior (which leads to long initialization times due to scipy/scipy#11299), please set init_weights=True.\n",
      "  warnings.warn(\n"
     ]
    },
    {
     "name": "stdout",
     "output_type": "stream",
     "text": [
      "-------------------------------------\n",
      "Accuracy :  0.109\n",
      "Loss :  tensor(4.9423, device='cuda:0', grad_fn=<NllLossBackward0>)\n",
      "Accuracy of the on test images :  15.0\n",
      "Accuracy :  0.16\n",
      "Loss :  tensor(3.3290, device='cuda:0', grad_fn=<NllLossBackward0>)\n",
      "Accuracy of the on test images :  17.5\n",
      "Accuracy :  0.213\n",
      "Loss :  tensor(2.0293, device='cuda:0', grad_fn=<NllLossBackward0>)\n",
      "Accuracy of the on test images :  25.0\n",
      "Accuracy :  0.258\n",
      "Loss :  tensor(3.1025, device='cuda:0', grad_fn=<NllLossBackward0>)\n",
      "Accuracy of the on test images :  23.0\n",
      "Accuracy :  0.286\n",
      "Loss :  tensor(6.1954, device='cuda:0', grad_fn=<NllLossBackward0>)\n",
      "Accuracy of the on test images :  24.5\n",
      "Accuracy :  0.289\n",
      "Loss :  tensor(1.5305, device='cuda:0', grad_fn=<NllLossBackward0>)\n",
      "Accuracy of the on test images :  23.5\n",
      "Accuracy :  0.305\n",
      "Loss :  tensor(2.0542, device='cuda:0', grad_fn=<NllLossBackward0>)\n",
      "Accuracy of the on test images :  24.5\n",
      "Accuracy :  0.404\n",
      "Loss :  tensor(0.6542, device='cuda:0', grad_fn=<NllLossBackward0>)\n",
      "Accuracy of the on test images :  28.0\n",
      "Accuracy :  0.434\n",
      "Loss :  tensor(0.5767, device='cuda:0', grad_fn=<NllLossBackward0>)\n",
      "Accuracy of the on test images :  26.0\n",
      "Accuracy :  0.449\n",
      "Loss :  tensor(0.6592, device='cuda:0', grad_fn=<NllLossBackward0>)\n",
      "Accuracy of the on test images :  28.5\n",
      "Accuracy :  0.536\n",
      "Loss :  tensor(2.0737, device='cuda:0', grad_fn=<NllLossBackward0>)\n",
      "Accuracy of the on test images :  30.0\n",
      "Accuracy :  0.575\n",
      "Loss :  tensor(1.1787, device='cuda:0', grad_fn=<NllLossBackward0>)\n",
      "Accuracy of the on test images :  29.5\n",
      "Accuracy :  0.661\n",
      "Loss :  tensor(0.1827, device='cuda:0', grad_fn=<NllLossBackward0>)\n",
      "Accuracy of the on test images :  29.0\n",
      "Accuracy :  0.713\n",
      "Loss :  tensor(0.2103, device='cuda:0', grad_fn=<NllLossBackward0>)\n",
      "Accuracy of the on test images :  26.5\n",
      "Accuracy :  0.736\n",
      "Loss :  tensor(0.3387, device='cuda:0', grad_fn=<NllLossBackward0>)\n",
      "Accuracy of the on test images :  28.5\n",
      "Accuracy :  0.793\n",
      "Loss :  tensor(0.1579, device='cuda:0', grad_fn=<NllLossBackward0>)\n",
      "Accuracy of the on test images :  27.5\n",
      "Accuracy :  0.799\n",
      "Loss :  tensor(0.0177, device='cuda:0', grad_fn=<NllLossBackward0>)\n",
      "Accuracy of the on test images :  25.5\n",
      "Accuracy :  0.792\n",
      "Loss :  tensor(0.3665, device='cuda:0', grad_fn=<NllLossBackward0>)\n",
      "-------------------------------------\n",
      "Accuracy :  0.097\n",
      "Loss :  tensor(3.8507, device='cuda:0', grad_fn=<NllLossBackward0>)\n",
      "Accuracy of the on test images :  11.0\n",
      "Accuracy :  0.134\n",
      "Loss :  tensor(2.9228, device='cuda:0', grad_fn=<NllLossBackward0>)\n",
      "Accuracy of the on test images :  12.0\n",
      "Accuracy :  0.17\n",
      "Loss :  tensor(4.2851, device='cuda:0', grad_fn=<NllLossBackward0>)\n",
      "Accuracy of the on test images :  14.0\n",
      "Accuracy :  0.186\n",
      "Loss :  tensor(2.5135, device='cuda:0', grad_fn=<NllLossBackward0>)\n",
      "Accuracy of the on test images :  19.0\n",
      "Accuracy :  0.261\n",
      "Loss :  tensor(5.4910, device='cuda:0', grad_fn=<NllLossBackward0>)\n",
      "Accuracy of the on test images :  14.5\n",
      "Accuracy :  0.25\n",
      "Loss :  tensor(2.4722, device='cuda:0', grad_fn=<NllLossBackward0>)\n",
      "-------------------------------------\n",
      "Accuracy :  0.098\n",
      "Loss :  tensor(2.9951, device='cuda:0', grad_fn=<NllLossBackward0>)\n",
      "Accuracy of the on test images :  8.5\n",
      "Accuracy :  0.117\n",
      "Loss :  tensor(4.1886, device='cuda:0', grad_fn=<NllLossBackward0>)\n",
      "Accuracy of the on test images :  12.5\n",
      "Accuracy :  0.15\n",
      "Loss :  tensor(1.8369, device='cuda:0', grad_fn=<NllLossBackward0>)\n",
      "Accuracy of the on test images :  11.5\n",
      "Accuracy :  0.152\n",
      "Loss :  tensor(3.2914, device='cuda:0', grad_fn=<NllLossBackward0>)\n",
      "Accuracy of the on test images :  13.5\n",
      "Accuracy :  0.198\n",
      "Loss :  tensor(1.5424, device='cuda:0', grad_fn=<NllLossBackward0>)\n",
      "Accuracy of the on test images :  21.0\n",
      "Accuracy :  0.196\n",
      "Loss :  tensor(2.2950, device='cuda:0', grad_fn=<NllLossBackward0>)\n",
      "-------------------------------------\n",
      "Accuracy :  0.076\n",
      "Loss :  tensor(5.1644, device='cuda:0', grad_fn=<NllLossBackward0>)\n",
      "Accuracy of the on test images :  10.5\n",
      "Accuracy :  0.11\n",
      "Loss :  tensor(5.3604, device='cuda:0', grad_fn=<NllLossBackward0>)\n",
      "Accuracy of the on test images :  11.5\n",
      "Accuracy :  0.129\n",
      "Loss :  tensor(4.1823, device='cuda:0', grad_fn=<NllLossBackward0>)\n",
      "Accuracy of the on test images :  12.5\n",
      "Accuracy :  0.131\n",
      "Loss :  tensor(4.5042, device='cuda:0', grad_fn=<NllLossBackward0>)\n",
      "Accuracy of the on test images :  16.0\n",
      "Accuracy :  0.169\n",
      "Loss :  tensor(1.8498, device='cuda:0', grad_fn=<NllLossBackward0>)\n",
      "Accuracy of the on test images :  8.5\n",
      "Accuracy :  0.154\n",
      "Loss :  tensor(3.7617, device='cuda:0', grad_fn=<NllLossBackward0>)\n",
      "-------------------------------------\n",
      "Accuracy :  0.074\n",
      "Loss :  tensor(7.4145, device='cuda:0', grad_fn=<NllLossBackward0>)\n",
      "Accuracy of the on test images :  8.5\n",
      "Accuracy :  0.119\n",
      "Loss :  tensor(4.0475, device='cuda:0', grad_fn=<NllLossBackward0>)\n",
      "Accuracy of the on test images :  7.0\n",
      "Accuracy :  0.103\n",
      "Loss :  tensor(4.8775, device='cuda:0', grad_fn=<NllLossBackward0>)\n",
      "-------------------------------------\n",
      "Accuracy :  0.102\n",
      "Loss :  tensor(5.4727, device='cuda:0', grad_fn=<NllLossBackward0>)\n",
      "Accuracy of the on test images :  9.0\n",
      "Accuracy :  0.107\n",
      "Loss :  tensor(3.9353, device='cuda:0', grad_fn=<NllLossBackward0>)\n",
      "Accuracy of the on test images :  7.0\n",
      "Accuracy :  0.115\n",
      "Loss :  tensor(2.3875, device='cuda:0', grad_fn=<NllLossBackward0>)\n",
      "Accuracy of the on test images :  10.0\n",
      "Accuracy :  0.142\n",
      "Loss :  tensor(5.3887, device='cuda:0', grad_fn=<NllLossBackward0>)\n",
      "Accuracy of the on test images :  11.5\n",
      "Accuracy :  0.153\n",
      "Loss :  tensor(1.8749, device='cuda:0', grad_fn=<NllLossBackward0>)\n",
      "Accuracy of the on test images :  11.5\n",
      "Accuracy :  0.165\n",
      "Loss :  tensor(3.8272, device='cuda:0', grad_fn=<NllLossBackward0>)\n",
      "Accuracy of the on test images :  10.5\n",
      "Accuracy :  0.207\n",
      "Loss :  tensor(3.9516, device='cuda:0', grad_fn=<NllLossBackward0>)\n",
      "Accuracy of the on test images :  9.0\n",
      "Accuracy :  0.222\n",
      "Loss :  tensor(2.7746, device='cuda:0', grad_fn=<NllLossBackward0>)\n",
      "Accuracy of the on test images :  10.0\n",
      "Accuracy :  0.247\n",
      "Loss :  tensor(0.9568, device='cuda:0', grad_fn=<NllLossBackward0>)\n",
      "Accuracy of the on test images :  13.0\n",
      "Accuracy :  0.288\n",
      "Loss :  tensor(2.4132, device='cuda:0', grad_fn=<NllLossBackward0>)\n",
      "Accuracy of the on test images :  13.5\n",
      "Accuracy :  0.334\n",
      "Loss :  tensor(1.6842, device='cuda:0', grad_fn=<NllLossBackward0>)\n",
      "Accuracy of the on test images :  10.5\n",
      "Accuracy :  0.384\n",
      "Loss :  tensor(1.5813, device='cuda:0', grad_fn=<NllLossBackward0>)\n",
      "Accuracy of the on test images :  12.5\n",
      "Accuracy :  0.44\n",
      "Loss :  tensor(0.4840, device='cuda:0', grad_fn=<NllLossBackward0>)\n",
      "Accuracy of the on test images :  8.0\n",
      "Accuracy :  0.523\n",
      "Loss :  tensor(0.6675, device='cuda:0', grad_fn=<NllLossBackward0>)\n",
      "Accuracy of the on test images :  12.5\n",
      "Accuracy :  0.577\n",
      "Loss :  tensor(0.1339, device='cuda:0', grad_fn=<NllLossBackward0>)\n",
      "Accuracy of the on test images :  11.0\n",
      "Accuracy :  0.687\n",
      "Loss :  tensor(1.6353, device='cuda:0', grad_fn=<NllLossBackward0>)\n",
      "Accuracy of the on test images :  10.5\n",
      "Accuracy :  0.718\n",
      "Loss :  tensor(0.1707, device='cuda:0', grad_fn=<NllLossBackward0>)\n",
      "Accuracy of the on test images :  10.0\n",
      "Accuracy :  0.758\n",
      "Loss :  tensor(0.7225, device='cuda:0', grad_fn=<NllLossBackward0>)\n",
      "Accuracy of the on test images :  11.0\n",
      "Accuracy :  0.762\n",
      "Loss :  tensor(0.3087, device='cuda:0', grad_fn=<NllLossBackward0>)\n",
      "Accuracy of the on test images :  6.5\n",
      "Accuracy :  0.737\n",
      "Loss :  tensor(0.0338, device='cuda:0', grad_fn=<NllLossBackward0>)\n"
     ]
    }
   ],
   "source": [
    "per = 0\n",
    "for i in range(6):\n",
    "  model = models.inception_v3().to(device)\n",
    "  model.aux_logits = False\n",
    "  optimizer = torch.optim.SGD(model.parameters(),lr=0.01,momentum = 0.9)\n",
    "  train_labels = torch.zeros(len(traindata)*batchsize)\n",
    "  test_labels = torch.zeros(len(testdata)*batchsize)\n",
    "  trainnum = 0\n",
    "  testnum = 0\n",
    "  for i,data in enumerate(traindata):\n",
    "    for j in range(len(data[1])):\n",
    "      train_labels[trainnum] = data[1][j]\n",
    "      trainnum+=1\n",
    "  for i,data in enumerate(testdata):\n",
    "    for j in range(len(data[1])):\n",
    "      test_labels[testnum] = data[1][j]\n",
    "      testnum+=1\n",
    "  print(\"-------------------------------------\")\n",
    "  localtraining_data = traindata\n",
    "  localtest_data = testdata\n",
    "  if per!=0:\n",
    "    trainls = random.sample(range(0,(len(traindata)*batchsize)),int((len(traindata)*batchsize)*per/100))\n",
    "    testls = random.sample(range(0,(len(testdata)*batchsize)),int((len(testdata)*batchsize)*per/100))\n",
    "    trainls.sort()\n",
    "    testls.sort()\n",
    "    for i in range(len(trainls)):\n",
    "      train_labels[trainls[i]] = random.randint(0,9)\n",
    "    for i in range(len(testls)):\n",
    "      test_labels[testls[i]] = random.randint(0,9)\n",
    "  training(model,localtraining_data,localtest_data,optimizer,train_labels,test_labels)\n",
    "  per+=20\n",
    "     "
   ]
  },
  {
   "cell_type": "code",
   "execution_count": 16,
   "metadata": {
    "colab": {
     "base_uri": "https://localhost:8080/",
     "height": 313
    },
    "id": "un_PUaPf2bFL",
    "outputId": "c39b267c-fd0d-47d7-f41d-703cc73278d1"
   },
   "outputs": [
    {
     "data": {
      "text/plain": [
       "Text(0.5, 1.0, 'Inception')"
      ]
     },
     "execution_count": 16,
     "metadata": {},
     "output_type": "execute_result"
    },
    {
     "data": {
      "image/png": "[encoded data removed]",
      "text/plain": [
       "<Figure size 432x288 with 1 Axes>"
      ]
     },
     "metadata": {
      "needs_background": "light"
     },
     "output_type": "display_data"
    }
   ],
   "source": [
    "p = [1,2,3,4,5,6]\n",
    "plt.plot(p,alex_overfitcounts)\n",
    "plt.xlabel(\"Corruption Rate\")\n",
    "plt.ylabel(\"Overfitting Counts\")\n",
    "plt.title(\"Inception\")\n",
    "     "
   ]
  },
  {
   "cell_type": "code",
   "execution_count": 17,
   "metadata": {
    "colab": {
     "base_uri": "https://localhost:8080/",
     "height": 313
    },
    "id": "xYPA1MNC2dXE",
    "outputId": "682d8c74-8dd6-420e-ec2f-ed53c64dcc6c"
   },
   "outputs": [
    {
     "data": {
      "text/plain": [
       "Text(0.5, 1.0, 'Inception')"
      ]
     },
     "execution_count": 17,
     "metadata": {},
     "output_type": "execute_result"
    },
    {
     "data": {
      "image/png": "[encoded data removed]",
      "text/plain": [
       "<Figure size 432x288 with 1 Axes>"
      ]
     },
     "metadata": {
      "needs_background": "light"
     },
     "output_type": "display_data"
    }
   ],
   "source": [
    "plt.plot(p,alex_testaccuracies)\n",
    "plt.xlabel(\"Corruption Rate\")\n",
    "plt.ylabel(\"Test Accuracies\")\n",
    "plt.title(\"Inception\")\n",
    "     "
   ]
  }
 ],
 "metadata": {
  "accelerator": "GPU",
  "colab": {
   "provenance": []
  },
  "gpuClass": "standard",
  "kernelspec": {
   "display_name": "Python 3 (ipykernel)",
   "language": "python",
   "name": "python3"
  },
  "language_info": {
   "codemirror_mode": {
    "name": "ipython",
    "version": 3
   },
   "file_extension": ".py",
   "mimetype": "text/x-python",
   "name": "python",
   "nbconvert_exporter": "python",
   "pygments_lexer": "ipython3",
   "version": "3.8.10"
  },
  "widgets": {
   "application/vnd.jupyter.widget-state+json": {
    "0f0864a49f22483289789b468750df3b": {
     "model_module": "@jupyter-widgets/base",
     "model_module_version": "1.2.0",
     "model_name": "LayoutModel",
     "state": {
      "_model_module": "@jupyter-widgets/base",
      "_model_module_version": "1.2.0",
      "_model_name": "LayoutModel",
      "_view_count": null,
      "_view_module": "@jupyter-widgets/base",
      "_view_module_version": "1.2.0",
      "_view_name": "LayoutView",
      "align_content": null,
      "align_items": null,
      "align_self": null,
      "border": null,
      "bottom": null,
      "display": null,
      "flex": null,
      "flex_flow": null,
      "grid_area": null,
      "grid_auto_columns": null,
      "grid_auto_flow": null,
      "grid_auto_rows": null,
      "grid_column": null,
      "grid_gap": null,
      "grid_row": null,
      "grid_template_areas": null,
      "grid_template_columns": null,
      "grid_template_rows": null,
      "height": null,
      "justify_content": null,
      "justify_items": null,
      "left": null,
      "margin": null,
      "max_height": null,
      "max_width": null,
      "min_height": null,
      "min_width": null,
      "object_fit": null,
      "object_position": null,
      "order": null,
      "overflow": null,
      "overflow_x": null,
      "overflow_y": null,
      "padding": null,
      "right": null,
      "top": null,
      "visibility": null,
      "width": null
     }
    },
    "1840e372bef24294aab1cc2bcc1594d4": {
     "model_module": "@jupyter-widgets/controls",
     "model_module_version": "1.5.0",
     "model_name": "ProgressStyleModel",
     "state": {
      "_model_module": "@jupyter-widgets/controls",
      "_model_module_version": "1.5.0",
      "_model_name": "ProgressStyleModel",
      "_view_count": null,
      "_view_module": "@jupyter-widgets/base",
      "_view_module_version": "1.2.0",
      "_view_name": "StyleView",
      "bar_color": null,
      "description_width": ""
     }
    },
    "25011be4192641fcbdded4a1aa7b9591": {
     "model_module": "@jupyter-widgets/controls",
     "model_module_version": "1.5.0",
     "model_name": "HBoxModel",
     "state": {
      "_dom_classes": [],
      "_model_module": "@jupyter-widgets/controls",
      "_model_module_version": "1.5.0",
      "_model_name": "HBoxModel",
      "_view_count": null,
      "_view_module": "@jupyter-widgets/controls",
      "_view_module_version": "1.5.0",
      "_view_name": "HBoxView",
      "box_style": "",
      "children": [
       "IPY_MODEL_88600774bf684c46bc42c30a5f892a9c",
       "IPY_MODEL_c25ae1deb17f454491c9c087929b80a9",
       "IPY_MODEL_90a9bcd4f3204385a882c62b067f247b"
      ],
      "layout": "IPY_MODEL_beea12bb829a4e41ae626764e59ff099"
     }
    },
    "2adab9d014da43ea934c1110f86fc4f4": {
     "model_module": "@jupyter-widgets/base",
     "model_module_version": "1.2.0",
     "model_name": "LayoutModel",
     "state": {
      "_model_module": "@jupyter-widgets/base",
      "_model_module_version": "1.2.0",
      "_model_name": "LayoutModel",
      "_view_count": null,
      "_view_module": "@jupyter-widgets/base",
      "_view_module_version": "1.2.0",
      "_view_name": "LayoutView",
      "align_content": null,
      "align_items": null,
      "align_self": null,
      "border": null,
      "bottom": null,
      "display": null,
      "flex": null,
      "flex_flow": null,
      "grid_area": null,
      "grid_auto_columns": null,
      "grid_auto_flow": null,
      "grid_auto_rows": null,
      "grid_column": null,
      "grid_gap": null,
      "grid_row": null,
      "grid_template_areas": null,
      "grid_template_columns": null,
      "grid_template_rows": null,
      "height": null,
      "justify_content": null,
      "justify_items": null,
      "left": null,
      "margin": null,
      "max_height": null,
      "max_width": null,
      "min_height": null,
      "min_width": null,
      "object_fit": null,
      "object_position": null,
      "order": null,
      "overflow": null,
      "overflow_x": null,
      "overflow_y": null,
      "padding": null,
      "right": null,
      "top": null,
      "visibility": null,
      "width": null
     }
    },
    "88600774bf684c46bc42c30a5f892a9c": {
     "model_module": "@jupyter-widgets/controls",
     "model_module_version": "1.5.0",
     "model_name": "HTMLModel",
     "state": {
      "_dom_classes": [],
      "_model_module": "@jupyter-widgets/controls",
      "_model_module_version": "1.5.0",
      "_model_name": "HTMLModel",
      "_view_count": null,
      "_view_module": "@jupyter-widgets/controls",
      "_view_module_version": "1.5.0",
      "_view_name": "HTMLView",
      "description": "",
      "description_tooltip": null,
      "layout": "IPY_MODEL_2adab9d014da43ea934c1110f86fc4f4",
      "placeholder": "​",
      "style": "IPY_MODEL_e6372742a0484e5eb0b7098a3a534ee8",
      "value": "100%"
     }
    },
    "90a9bcd4f3204385a882c62b067f247b": {
     "model_module": "@jupyter-widgets/controls",
     "model_module_version": "1.5.0",
     "model_name": "HTMLModel",
     "state": {
      "_dom_classes": [],
      "_model_module": "@jupyter-widgets/controls",
      "_model_module_version": "1.5.0",
      "_model_name": "HTMLModel",
      "_view_count": null,
      "_view_module": "@jupyter-widgets/controls",
      "_view_module_version": "1.5.0",
      "_view_name": "HTMLView",
      "description": "",
      "description_tooltip": null,
      "layout": "IPY_MODEL_e28ae8a19b3a4b79bbca0b6d648fb5c1",
      "placeholder": "​",
      "style": "IPY_MODEL_c1430aad4ed24c5d98d7bf7cf25dcb96",
      "value": " 170498071/170498071 [00:02&lt;00:00, 90624993.76it/s]"
     }
    },
    "beea12bb829a4e41ae626764e59ff099": {
     "model_module": "@jupyter-widgets/base",
     "model_module_version": "1.2.0",
     "model_name": "LayoutModel",
     "state": {
      "_model_module": "@jupyter-widgets/base",
      "_model_module_version": "1.2.0",
      "_model_name": "LayoutModel",
      "_view_count": null,
      "_view_module": "@jupyter-widgets/base",
      "_view_module_version": "1.2.0",
      "_view_name": "LayoutView",
      "align_content": null,
      "align_items": null,
      "align_self": null,
      "border": null,
      "bottom": null,
      "display": null,
      "flex": null,
      "flex_flow": null,
      "grid_area": null,
      "grid_auto_columns": null,
      "grid_auto_flow": null,
      "grid_auto_rows": null,
      "grid_column": null,
      "grid_gap": null,
      "grid_row": null,
      "grid_template_areas": null,
      "grid_template_columns": null,
      "grid_template_rows": null,
      "height": null,
      "justify_content": null,
      "justify_items": null,
      "left": null,
      "margin": null,
      "max_height": null,
      "max_width": null,
      "min_height": null,
      "min_width": null,
      "object_fit": null,
      "object_position": null,
      "order": null,
      "overflow": null,
      "overflow_x": null,
      "overflow_y": null,
      "padding": null,
      "right": null,
      "top": null,
      "visibility": null,
      "width": null
     }
    },
    "c1430aad4ed24c5d98d7bf7cf25dcb96": {
     "model_module": "@jupyter-widgets/controls",
     "model_module_version": "1.5.0",
     "model_name": "DescriptionStyleModel",
     "state": {
      "_model_module": "@jupyter-widgets/controls",
      "_model_module_version": "1.5.0",
      "_model_name": "DescriptionStyleModel",
      "_view_count": null,
      "_view_module": "@jupyter-widgets/base",
      "_view_module_version": "1.2.0",
      "_view_name": "StyleView",
      "description_width": ""
     }
    },
    "c25ae1deb17f454491c9c087929b80a9": {
     "model_module": "@jupyter-widgets/controls",
     "model_module_version": "1.5.0",
     "model_name": "FloatProgressModel",
     "state": {
      "_dom_classes": [],
      "_model_module": "@jupyter-widgets/controls",
      "_model_module_version": "1.5.0",
      "_model_name": "FloatProgressModel",
      "_view_count": null,
      "_view_module": "@jupyter-widgets/controls",
      "_view_module_version": "1.5.0",
      "_view_name": "ProgressView",
      "bar_style": "success",
      "description": "",
      "description_tooltip": null,
      "layout": "IPY_MODEL_0f0864a49f22483289789b468750df3b",
      "max": 170498071,
      "min": 0,
      "orientation": "horizontal",
      "style": "IPY_MODEL_1840e372bef24294aab1cc2bcc1594d4",
      "value": 170498071
     }
    },
    "e28ae8a19b3a4b79bbca0b6d648fb5c1": {
     "model_module": "@jupyter-widgets/base",
     "model_module_version": "1.2.0",
     "model_name": "LayoutModel",
     "state": {
      "_model_module": "@jupyter-widgets/base",
      "_model_module_version": "1.2.0",
      "_model_name": "LayoutModel",
      "_view_count": null,
      "_view_module": "@jupyter-widgets/base",
      "_view_module_version": "1.2.0",
      "_view_name": "LayoutView",
      "align_content": null,
      "align_items": null,
      "align_self": null,
      "border": null,
      "bottom": null,
      "display": null,
      "flex": null,
      "flex_flow": null,
      "grid_area": null,
      "grid_auto_columns": null,
      "grid_auto_flow": null,
      "grid_auto_rows": null,
      "grid_column": null,
      "grid_gap": null,
      "grid_row": null,
      "grid_template_areas": null,
      "grid_template_columns": null,
      "grid_template_rows": null,
      "height": null,
      "justify_content": null,
      "justify_items": null,
      "left": null,
      "margin": null,
      "max_height": null,
      "max_width": null,
      "min_height": null,
      "min_width": null,
      "object_fit": null,
      "object_position": null,
      "order": null,
      "overflow": null,
      "overflow_x": null,
      "overflow_y": null,
      "padding": null,
      "right": null,
      "top": null,
      "visibility": null,
      "width": null
     }
    },
    "e6372742a0484e5eb0b7098a3a534ee8": {
     "model_module": "@jupyter-widgets/controls",
     "model_module_version": "1.5.0",
     "model_name": "DescriptionStyleModel",
     "state": {
      "_model_module": "@jupyter-widgets/controls",
      "_model_module_version": "1.5.0",
      "_model_name": "DescriptionStyleModel",
      "_view_count": null,
      "_view_module": "@jupyter-widgets/base",
      "_view_module_version": "1.2.0",
      "_view_name": "StyleView",
      "description_width": ""
     }
    }
   }
  }
 },
 "nbformat": 4,
 "nbformat_minor": 1
}
