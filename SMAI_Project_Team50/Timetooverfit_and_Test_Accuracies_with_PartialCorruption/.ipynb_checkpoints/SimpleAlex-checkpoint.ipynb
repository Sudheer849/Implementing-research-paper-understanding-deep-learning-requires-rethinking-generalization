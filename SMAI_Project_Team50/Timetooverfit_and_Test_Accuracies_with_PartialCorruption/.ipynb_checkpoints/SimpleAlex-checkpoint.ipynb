{
 "cells": [
  {
   "cell_type": "code",
   "execution_count": 2,
   "metadata": {
    "id": "jre829pG27UM"
   },
   "outputs": [],
   "source": [
    "import torch\n",
    "import numpy as np\n",
    "import pandas as pd\n",
    "import torch.nn as nn\n",
    "import torch.optim as optim\n",
    "import os\n",
    "import matplotlib.pyplot as plt\n",
    "import torch.nn.functional as F\n",
    "%matplotlib inline\n",
    "import random"
   ]
  },
  {
   "cell_type": "code",
   "execution_count": 3,
   "metadata": {
    "id": "dWmPpuef3TGA"
   },
   "outputs": [],
   "source": [
    "import torchvision\n",
    "import torchvision.transforms as transforms"
   ]
  },
  {
   "cell_type": "code",
   "execution_count": 4,
   "metadata": {
    "colab": {
     "base_uri": "https://localhost:8080/"
    },
    "id": "y2iRWjyC3VDv",
    "outputId": "1261efd0-3999-4b5b-eae0-a6e696d70904"
   },
   "outputs": [
    {
     "name": "stdout",
     "output_type": "stream",
     "text": [
      "Device available now: cuda\n"
     ]
    }
   ],
   "source": [
    "device = torch.device('cuda' if torch.cuda.is_available() else 'cpu')\n",
    "print('Device available now:', device)"
   ]
  },
  {
   "cell_type": "code",
   "execution_count": 4,
   "metadata": {
    "id": "1Z25_xUN3aBJ"
   },
   "outputs": [],
   "source": []
  },
  {
   "cell_type": "code",
   "execution_count": 5,
   "metadata": {
    "id": "TRjEIowB3W4L"
   },
   "outputs": [],
   "source": [
    "image_transforms = transforms.Compose(\n",
    "         [transforms.ToTensor(),\n",
    "         transforms.CenterCrop(28),\n",
    "         transforms.Normalize((0.5), (0.5))]\n",
    ")"
   ]
  },
  {
   "cell_type": "code",
   "execution_count": 6,
   "metadata": {
    "id": "Bj2zVbKW3YWK"
   },
   "outputs": [],
   "source": [
    "batchsize = 32\n",
    "rowsize = 28\n",
    "colsize = 28\n",
    "inchannels = 3\n",
    "kernelsize = 5\n",
    "stride = 1\n",
    "padding = 0\n",
    "poolsize = 3\n",
    "fc_size1 = 384\n",
    "fc_size2 = 192\n",
    "no_classes = 10\n",
    "epochs = 100\n",
    "overfit_accuracy = 90"
   ]
  },
  {
   "cell_type": "code",
   "execution_count": 7,
   "metadata": {
    "id": "1tXII3qt3cfL"
   },
   "outputs": [],
   "source": [
    "alex_overfitcounts = []\n",
    "alex_testaccuracies = []"
   ]
  },
  {
   "cell_type": "code",
   "execution_count": 8,
   "metadata": {
    "colab": {
     "base_uri": "https://localhost:8080/",
     "height": 84,
     "referenced_widgets": [
      "074f0988d0f44340b6f8b3115a610458",
      "3a39f763d7384d65b7f020a801137701",
      "d52a9c626e4649dc821887fae3c6013e",
      "0a976652fc1e4b01a6e9e9bb3d02beca",
      "c50c572141ea43e7a6645bb026023ac0",
      "05f97486659d4f50ad629ae83f816dde",
      "7ab77790f5a14fee873c9c1b3816d007",
      "af0b5af5648541d2a698dab6f3714fb7",
      "3ebf3db2de7449848dc21bce809df35c",
      "246f150b36af444890a38cb3d9db560b",
      "4ca7ba5129c74ba1999388451f6e1843"
     ]
    },
    "id": "wlrt0TmJ3c_d",
    "outputId": "9763c2c3-4c7c-4b07-abbc-e85c8e5c6c36"
   },
   "outputs": [
    {
     "name": "stdout",
     "output_type": "stream",
     "text": [
      "Downloading https://www.cs.toronto.edu/~kriz/cifar-10-python.tar.gz to ./cifar-10-python.tar.gz\n"
     ]
    },
    {
     "data": {
      "application/vnd.jupyter.widget-view+json": {
       "model_id": "074f0988d0f44340b6f8b3115a610458",
       "version_major": 2,
       "version_minor": 0
      },
      "text/plain": [
       "  0%|          | 0/170498071 [00:00<?, ?it/s]"
      ]
     },
     "metadata": {},
     "output_type": "display_data"
    },
    {
     "name": "stdout",
     "output_type": "stream",
     "text": [
      "Extracting ./cifar-10-python.tar.gz to ./\n"
     ]
    }
   ],
   "source": [
    "train = torchvision.datasets.CIFAR10(root='./', train=True, download=True, transform=image_transforms)\n",
    "test = torchvision.datasets.CIFAR10(root='./', train=False, transform=image_transforms)"
   ]
  },
  {
   "cell_type": "code",
   "execution_count": 9,
   "metadata": {
    "id": "N5j1wMys3eaB"
   },
   "outputs": [],
   "source": [
    "trainindices = list(range(0, len(train), 10))\n",
    "testindices = list(range(0, len(test),10))\n",
    "trainset = torch.utils.data.Subset(train,trainindices)\n",
    "testset = torch.utils.data.Subset(test,testindices)"
   ]
  },
  {
   "cell_type": "code",
   "execution_count": 10,
   "metadata": {
    "colab": {
     "base_uri": "https://localhost:8080/"
    },
    "id": "T50X1Mce3gsy",
    "outputId": "9d3911dd-b0d7-4cc7-da57-166f372b0ec6"
   },
   "outputs": [
    {
     "name": "stdout",
     "output_type": "stream",
     "text": [
      "5000\n"
     ]
    }
   ],
   "source": [
    "print(len(trainset))"
   ]
  },
  {
   "cell_type": "code",
   "execution_count": 11,
   "metadata": {
    "id": "tEiJoqSO3vOo"
   },
   "outputs": [],
   "source": [
    "traindata = torch.utils.data.DataLoader(trainset,batch_size=batchsize, shuffle=False, num_workers=2,pin_memory=True)\n",
    "testdata = torch.utils.data.DataLoader(testset,batch_size=batchsize, shuffle=False, num_workers=2,pin_memory=True)"
   ]
  },
  {
   "cell_type": "code",
   "execution_count": 12,
   "metadata": {
    "id": "P1bNVdnM7k6T"
   },
   "outputs": [],
   "source": [
    "train_labels = torch.zeros(len(traindata)*batchsize)\n",
    "test_labels = torch.zeros(len(testdata)*batchsize)\n",
    "trainnum = 0\n",
    "testnum = 0\n",
    "for i,data in enumerate(traindata):\n",
    "  for j in range(len(data[1])):\n",
    "    train_labels[trainnum] = data[1][j]\n",
    "    trainnum+=1\n",
    "for i,data in enumerate(testdata):\n",
    "  for j in range(len(data[1])):\n",
    "    test_labels[testnum] = data[1][j]\n",
    "    testnum+=1\n",
    "  "
   ]
  },
  {
   "cell_type": "code",
   "execution_count": 13,
   "metadata": {
    "id": "Zet0rwJJ8Ika"
   },
   "outputs": [],
   "source": [
    "class SimpleAlex(nn.Module):\n",
    "  def __init__(self,inchannels,kernelsize,stride,padding,poolsize,fc_size1,fc_size2,no_classes):\n",
    "    super(SimpleAlex, self).__init__()\n",
    "    self.conv1 = nn.Conv2d(inchannels,24,kernelsize,stride,padding)\n",
    "    self.pool1 = nn.MaxPool2d(poolsize,2)\n",
    "    self.BatchNorm1 = nn.BatchNorm2d(24)\n",
    "    self.conv2 = nn.Conv2d(24,48,kernelsize,stride,padding)\n",
    "    self.pool2 = nn.MaxPool2d(poolsize,2)\n",
    "    self.BatchNorm2 = nn.BatchNorm2d(48)\n",
    "    self.fc1 = nn.Linear(432,fc_size1)\n",
    "    self.fc2 = nn.Linear(fc_size1,fc_size2)\n",
    "    self.fc3 = nn.Linear(fc_size2,no_classes) \n",
    "\n",
    "  def forward(self, x):\n",
    "    x = F.relu(self.conv1(x))\n",
    "    x = self.pool1(x)\n",
    "    x = self.BatchNorm1(x)\n",
    "    x = F.relu(self.conv2(x))\n",
    "    x = self.pool2(x)\n",
    "    x = self.BatchNorm2(x)\n",
    "    x = torch.flatten(x,1)\n",
    "    x = F.relu(self.fc1(x))\n",
    "    x = F.relu(self.fc2(x))\n",
    "    x = F.relu(self.fc3(x))\n",
    "    return x"
   ]
  },
  {
   "cell_type": "code",
   "execution_count": 14,
   "metadata": {
    "id": "Y9-igyJ18Ziu"
   },
   "outputs": [],
   "source": [
    "model = SimpleAlex(inchannels,kernelsize,stride,padding,poolsize,fc_size1,fc_size2,no_classes).to(device)\n",
    "# model = SimpleAlex(no_classes).to(device)"
   ]
  },
  {
   "cell_type": "code",
   "execution_count": 15,
   "metadata": {
    "id": "yXfW1su48cMF"
   },
   "outputs": [],
   "source": [
    "optimizer = torch.optim.SGD(model.parameters(),lr=0.01, weight_decay = 0.005, momentum = 0.9)\n",
    "criterion = nn.CrossEntropyLoss().to(device)"
   ]
  },
  {
   "cell_type": "code",
   "execution_count": 16,
   "metadata": {
    "id": "n5tdzZO38gwl"
   },
   "outputs": [],
   "source": [
    "# def training(model,traindata,testdata):\n",
    "def training(model,traindata,testdata,optimizer,train_labels,test_labels):\n",
    "  test_accuracies = []\n",
    "  test_accuracies.append(0)\n",
    "  test_accuracies.append(0)\n",
    "  test_accuracies.append(0)\n",
    "  count=0\n",
    "  flag=0\n",
    "  prev = 0\n",
    "  for ep in range(epochs):\n",
    "    Loss = 0\n",
    "    num_correct=0\n",
    "    tot = 0\n",
    "    testnum = 0\n",
    "    trainnum = 0\n",
    "    for i,data in enumerate(traindata):\n",
    "      x_data = data[0].to(device)\n",
    "      labels = data[1].to(device)\n",
    "      for j in range(len(x_data)):\n",
    "        labels[j] = train_labels[trainnum]\n",
    "        trainnum+=1\n",
    "      optimizer.zero_grad()\n",
    "      outputs = model(x_data)\n",
    "      _, pred = torch.max(outputs.data, 1)\n",
    "      num_correct += (pred == labels).sum().item()\n",
    "      tot += labels.size(0)\n",
    "      loss = criterion(outputs, labels)\n",
    "      loss.backward()\n",
    "      optimizer.step()\n",
    "      Loss += loss\n",
    "    print(\"Accuracy : \",num_correct/tot)\n",
    "    print(\"Loss : \",loss)\n",
    "    if((num_correct/tot) - prev < 0.001):\n",
    "      flag=1\n",
    "    prev =  num_correct/tot\n",
    "    with torch.no_grad():\n",
    "      correct = 0\n",
    "      total = 0\n",
    "      for i,data in enumerate(testdata):\n",
    "          images = data[0]\n",
    "          labels = data[1]\n",
    "          images = images.to(device)\n",
    "          labels = labels.to(device)\n",
    "          for j in range(len(images)):\n",
    "             labels[j] = test_labels[testnum]\n",
    "             testnum+=1\n",
    "          outputs = model(images)\n",
    "          _, predicted = torch.max(outputs.data, 1)\n",
    "          total += labels.size(0)\n",
    "          correct += (predicted == labels).sum().item() \n",
    "      test_accuracies.append(100*correct/total)\n",
    "      if flag==1:\n",
    "        alex_overfitcounts.append(count+1)\n",
    "        alex_testaccuracies.append(100*correct/total)\n",
    "        break\n",
    "      print(\"Accuracy of the on test images : \",100 * correct / total)\n",
    "      count+=1\n",
    "      if flag==1:\n",
    "        break"
   ]
  },
  {
   "cell_type": "code",
   "execution_count": 17,
   "metadata": {
    "colab": {
     "base_uri": "https://localhost:8080/"
    },
    "id": "qwc2iG_d98s_",
    "outputId": "90334a71-7374-4da0-9138-aacc464359c1"
   },
   "outputs": [
    {
     "name": "stdout",
     "output_type": "stream",
     "text": [
      "-------------------------------------\n",
      "Accuracy :  0.2816\n",
      "Loss :  tensor(2.1564, device='cuda:0', grad_fn=<NllLossBackward0>)\n",
      "Accuracy of the on test images :  34.0\n",
      "Accuracy :  0.419\n",
      "Loss :  tensor(1.6106, device='cuda:0', grad_fn=<NllLossBackward0>)\n",
      "Accuracy of the on test images :  42.2\n",
      "Accuracy :  0.489\n",
      "Loss :  tensor(1.1635, device='cuda:0', grad_fn=<NllLossBackward0>)\n",
      "Accuracy of the on test images :  45.5\n",
      "Accuracy :  0.5534\n",
      "Loss :  tensor(0.8144, device='cuda:0', grad_fn=<NllLossBackward0>)\n",
      "Accuracy of the on test images :  48.2\n",
      "Accuracy :  0.5946\n",
      "Loss :  tensor(0.5306, device='cuda:0', grad_fn=<NllLossBackward0>)\n",
      "Accuracy of the on test images :  47.2\n",
      "Accuracy :  0.6362\n",
      "Loss :  tensor(0.3670, device='cuda:0', grad_fn=<NllLossBackward0>)\n",
      "Accuracy of the on test images :  47.3\n",
      "Accuracy :  0.6738\n",
      "Loss :  tensor(0.2846, device='cuda:0', grad_fn=<NllLossBackward0>)\n",
      "Accuracy of the on test images :  47.6\n",
      "Accuracy :  0.6958\n",
      "Loss :  tensor(0.3797, device='cuda:0', grad_fn=<NllLossBackward0>)\n",
      "Accuracy of the on test images :  45.5\n",
      "Accuracy :  0.7256\n",
      "Loss :  tensor(0.3039, device='cuda:0', grad_fn=<NllLossBackward0>)\n",
      "Accuracy of the on test images :  47.1\n",
      "Accuracy :  0.7562\n",
      "Loss :  tensor(0.2436, device='cuda:0', grad_fn=<NllLossBackward0>)\n",
      "Accuracy of the on test images :  46.0\n",
      "Accuracy :  0.7812\n",
      "Loss :  tensor(0.2450, device='cuda:0', grad_fn=<NllLossBackward0>)\n",
      "Accuracy of the on test images :  45.5\n",
      "Accuracy :  0.8048\n",
      "Loss :  tensor(0.1836, device='cuda:0', grad_fn=<NllLossBackward0>)\n",
      "Accuracy of the on test images :  49.6\n",
      "Accuracy :  0.8314\n",
      "Loss :  tensor(0.0567, device='cuda:0', grad_fn=<NllLossBackward0>)\n",
      "Accuracy of the on test images :  47.6\n",
      "Accuracy :  0.8614\n",
      "Loss :  tensor(0.0374, device='cuda:0', grad_fn=<NllLossBackward0>)\n",
      "Accuracy of the on test images :  45.9\n",
      "Accuracy :  0.8706\n",
      "Loss :  tensor(0.1945, device='cuda:0', grad_fn=<NllLossBackward0>)\n",
      "Accuracy of the on test images :  45.3\n",
      "Accuracy :  0.8804\n",
      "Loss :  tensor(0.0336, device='cuda:0', grad_fn=<NllLossBackward0>)\n",
      "Accuracy of the on test images :  45.1\n",
      "Accuracy :  0.8948\n",
      "Loss :  tensor(0.1091, device='cuda:0', grad_fn=<NllLossBackward0>)\n",
      "Accuracy of the on test images :  46.7\n",
      "Accuracy :  0.895\n",
      "Loss :  tensor(0.2354, device='cuda:0', grad_fn=<NllLossBackward0>)\n",
      "-------------------------------------\n",
      "Accuracy :  0.2238\n",
      "Loss :  tensor(1.9548, device='cuda:0', grad_fn=<NllLossBackward0>)\n",
      "Accuracy of the on test images :  26.3\n",
      "Accuracy :  0.3102\n",
      "Loss :  tensor(1.7743, device='cuda:0', grad_fn=<NllLossBackward0>)\n",
      "Accuracy of the on test images :  32.2\n",
      "Accuracy :  0.3662\n",
      "Loss :  tensor(1.5178, device='cuda:0', grad_fn=<NllLossBackward0>)\n",
      "Accuracy of the on test images :  33.1\n",
      "Accuracy :  0.4052\n",
      "Loss :  tensor(1.1328, device='cuda:0', grad_fn=<NllLossBackward0>)\n",
      "Accuracy of the on test images :  34.4\n",
      "Accuracy :  0.4358\n",
      "Loss :  tensor(0.9061, device='cuda:0', grad_fn=<NllLossBackward0>)\n",
      "Accuracy of the on test images :  34.9\n",
      "Accuracy :  0.4794\n",
      "Loss :  tensor(0.7638, device='cuda:0', grad_fn=<NllLossBackward0>)\n",
      "Accuracy of the on test images :  37.6\n",
      "Accuracy :  0.5152\n",
      "Loss :  tensor(0.6586, device='cuda:0', grad_fn=<NllLossBackward0>)\n",
      "Accuracy of the on test images :  38.7\n",
      "Accuracy :  0.5446\n",
      "Loss :  tensor(0.5683, device='cuda:0', grad_fn=<NllLossBackward0>)\n",
      "Accuracy of the on test images :  38.7\n",
      "Accuracy :  0.5758\n",
      "Loss :  tensor(0.5355, device='cuda:0', grad_fn=<NllLossBackward0>)\n",
      "Accuracy of the on test images :  38.4\n",
      "Accuracy :  0.5992\n",
      "Loss :  tensor(0.3812, device='cuda:0', grad_fn=<NllLossBackward0>)\n",
      "Accuracy of the on test images :  37.6\n",
      "Accuracy :  0.6344\n",
      "Loss :  tensor(0.2547, device='cuda:0', grad_fn=<NllLossBackward0>)\n",
      "Accuracy of the on test images :  36.3\n",
      "Accuracy :  0.6576\n",
      "Loss :  tensor(0.1841, device='cuda:0', grad_fn=<NllLossBackward0>)\n",
      "Accuracy of the on test images :  36.1\n",
      "Accuracy :  0.681\n",
      "Loss :  tensor(0.2102, device='cuda:0', grad_fn=<NllLossBackward0>)\n",
      "Accuracy of the on test images :  39.0\n",
      "Accuracy :  0.695\n",
      "Loss :  tensor(0.1534, device='cuda:0', grad_fn=<NllLossBackward0>)\n",
      "Accuracy of the on test images :  35.6\n",
      "Accuracy :  0.7196\n",
      "Loss :  tensor(0.1423, device='cuda:0', grad_fn=<NllLossBackward0>)\n",
      "Accuracy of the on test images :  35.6\n",
      "Accuracy :  0.7494\n",
      "Loss :  tensor(0.0462, device='cuda:0', grad_fn=<NllLossBackward0>)\n",
      "Accuracy of the on test images :  35.9\n",
      "Accuracy :  0.7658\n",
      "Loss :  tensor(0.0501, device='cuda:0', grad_fn=<NllLossBackward0>)\n",
      "Accuracy of the on test images :  35.1\n",
      "Accuracy :  0.7776\n",
      "Loss :  tensor(0.0911, device='cuda:0', grad_fn=<NllLossBackward0>)\n",
      "Accuracy of the on test images :  35.8\n",
      "Accuracy :  0.8052\n",
      "Loss :  tensor(0.1395, device='cuda:0', grad_fn=<NllLossBackward0>)\n",
      "Accuracy of the on test images :  33.2\n",
      "Accuracy :  0.815\n",
      "Loss :  tensor(0.2416, device='cuda:0', grad_fn=<NllLossBackward0>)\n",
      "Accuracy of the on test images :  35.4\n",
      "Accuracy :  0.803\n",
      "Loss :  tensor(0.0719, device='cuda:0', grad_fn=<NllLossBackward0>)\n",
      "-------------------------------------\n",
      "Accuracy :  0.1764\n",
      "Loss :  tensor(2.4178, device='cuda:0', grad_fn=<NllLossBackward0>)\n",
      "Accuracy of the on test images :  22.0\n",
      "Accuracy :  0.246\n",
      "Loss :  tensor(2.4155, device='cuda:0', grad_fn=<NllLossBackward0>)\n",
      "Accuracy of the on test images :  25.5\n",
      "Accuracy :  0.2842\n",
      "Loss :  tensor(2.2364, device='cuda:0', grad_fn=<NllLossBackward0>)\n",
      "Accuracy of the on test images :  27.1\n",
      "Accuracy :  0.327\n",
      "Loss :  tensor(1.8808, device='cuda:0', grad_fn=<NllLossBackward0>)\n",
      "Accuracy of the on test images :  28.2\n",
      "Accuracy :  0.356\n",
      "Loss :  tensor(1.5675, device='cuda:0', grad_fn=<NllLossBackward0>)\n",
      "Accuracy of the on test images :  29.3\n",
      "Accuracy :  0.3826\n",
      "Loss :  tensor(1.3419, device='cuda:0', grad_fn=<NllLossBackward0>)\n",
      "Accuracy of the on test images :  28.8\n",
      "Accuracy :  0.4058\n",
      "Loss :  tensor(1.2415, device='cuda:0', grad_fn=<NllLossBackward0>)\n",
      "Accuracy of the on test images :  29.0\n",
      "Accuracy :  0.4314\n",
      "Loss :  tensor(1.1899, device='cuda:0', grad_fn=<NllLossBackward0>)\n",
      "Accuracy of the on test images :  30.6\n",
      "Accuracy :  0.451\n",
      "Loss :  tensor(0.9733, device='cuda:0', grad_fn=<NllLossBackward0>)\n",
      "Accuracy of the on test images :  30.7\n",
      "Accuracy :  0.4818\n",
      "Loss :  tensor(0.8031, device='cuda:0', grad_fn=<NllLossBackward0>)\n",
      "Accuracy of the on test images :  28.8\n",
      "Accuracy :  0.514\n",
      "Loss :  tensor(0.7496, device='cuda:0', grad_fn=<NllLossBackward0>)\n",
      "Accuracy of the on test images :  27.8\n",
      "Accuracy :  0.543\n",
      "Loss :  tensor(0.6970, device='cuda:0', grad_fn=<NllLossBackward0>)\n",
      "Accuracy of the on test images :  26.7\n",
      "Accuracy :  0.572\n",
      "Loss :  tensor(0.6013, device='cuda:0', grad_fn=<NllLossBackward0>)\n",
      "Accuracy of the on test images :  25.8\n",
      "Accuracy :  0.6094\n",
      "Loss :  tensor(0.6445, device='cuda:0', grad_fn=<NllLossBackward0>)\n",
      "Accuracy of the on test images :  25.4\n",
      "Accuracy :  0.6314\n",
      "Loss :  tensor(0.6690, device='cuda:0', grad_fn=<NllLossBackward0>)\n",
      "Accuracy of the on test images :  24.9\n",
      "Accuracy :  0.6572\n",
      "Loss :  tensor(0.5420, device='cuda:0', grad_fn=<NllLossBackward0>)\n",
      "Accuracy of the on test images :  24.8\n",
      "Accuracy :  0.6754\n",
      "Loss :  tensor(0.5733, device='cuda:0', grad_fn=<NllLossBackward0>)\n",
      "Accuracy of the on test images :  23.6\n",
      "Accuracy :  0.6816\n",
      "Loss :  tensor(0.7907, device='cuda:0', grad_fn=<NllLossBackward0>)\n",
      "Accuracy of the on test images :  25.8\n",
      "Accuracy :  0.6954\n",
      "Loss :  tensor(0.5091, device='cuda:0', grad_fn=<NllLossBackward0>)\n",
      "Accuracy of the on test images :  23.5\n",
      "Accuracy :  0.7338\n",
      "Loss :  tensor(0.5502, device='cuda:0', grad_fn=<NllLossBackward0>)\n",
      "Accuracy of the on test images :  22.3\n",
      "Accuracy :  0.7422\n",
      "Loss :  tensor(0.5202, device='cuda:0', grad_fn=<NllLossBackward0>)\n",
      "Accuracy of the on test images :  24.8\n",
      "Accuracy :  0.7616\n",
      "Loss :  tensor(0.7553, device='cuda:0', grad_fn=<NllLossBackward0>)\n",
      "Accuracy of the on test images :  23.2\n",
      "Accuracy :  0.7776\n",
      "Loss :  tensor(0.6270, device='cuda:0', grad_fn=<NllLossBackward0>)\n",
      "Accuracy of the on test images :  23.5\n",
      "Accuracy :  0.791\n",
      "Loss :  tensor(0.1021, device='cuda:0', grad_fn=<NllLossBackward0>)\n",
      "Accuracy of the on test images :  22.2\n",
      "Accuracy :  0.7972\n",
      "Loss :  tensor(0.1346, device='cuda:0', grad_fn=<NllLossBackward0>)\n",
      "Accuracy of the on test images :  22.7\n",
      "Accuracy :  0.8252\n",
      "Loss :  tensor(0.0699, device='cuda:0', grad_fn=<NllLossBackward0>)\n",
      "Accuracy of the on test images :  22.6\n",
      "Accuracy :  0.8416\n",
      "Loss :  tensor(0.5957, device='cuda:0', grad_fn=<NllLossBackward0>)\n",
      "Accuracy of the on test images :  22.5\n",
      "Accuracy :  0.8354\n",
      "Loss :  tensor(0.1259, device='cuda:0', grad_fn=<NllLossBackward0>)\n",
      "-------------------------------------\n",
      "Accuracy :  0.1294\n",
      "Loss :  tensor(2.3383, device='cuda:0', grad_fn=<NllLossBackward0>)\n",
      "Accuracy of the on test images :  15.4\n",
      "Accuracy :  0.1678\n",
      "Loss :  tensor(2.1888, device='cuda:0', grad_fn=<NllLossBackward0>)\n",
      "Accuracy of the on test images :  16.5\n",
      "Accuracy :  0.1982\n",
      "Loss :  tensor(1.9381, device='cuda:0', grad_fn=<NllLossBackward0>)\n",
      "Accuracy of the on test images :  19.2\n",
      "Accuracy :  0.2208\n",
      "Loss :  tensor(1.8199, device='cuda:0', grad_fn=<NllLossBackward0>)\n",
      "Accuracy of the on test images :  19.8\n",
      "Accuracy :  0.2496\n",
      "Loss :  tensor(1.7354, device='cuda:0', grad_fn=<NllLossBackward0>)\n",
      "Accuracy of the on test images :  20.6\n",
      "Accuracy :  0.2658\n",
      "Loss :  tensor(1.6346, device='cuda:0', grad_fn=<NllLossBackward0>)\n",
      "Accuracy of the on test images :  20.9\n",
      "Accuracy :  0.2774\n",
      "Loss :  tensor(1.5395, device='cuda:0', grad_fn=<NllLossBackward0>)\n",
      "Accuracy of the on test images :  20.8\n",
      "Accuracy :  0.2938\n",
      "Loss :  tensor(1.3834, device='cuda:0', grad_fn=<NllLossBackward0>)\n",
      "Accuracy of the on test images :  19.5\n",
      "Accuracy :  0.312\n",
      "Loss :  tensor(1.2934, device='cuda:0', grad_fn=<NllLossBackward0>)\n",
      "Accuracy of the on test images :  19.4\n",
      "Accuracy :  0.341\n",
      "Loss :  tensor(1.1070, device='cuda:0', grad_fn=<NllLossBackward0>)\n",
      "Accuracy of the on test images :  19.9\n",
      "Accuracy :  0.3538\n",
      "Loss :  tensor(0.9885, device='cuda:0', grad_fn=<NllLossBackward0>)\n",
      "Accuracy of the on test images :  20.2\n",
      "Accuracy :  0.3852\n",
      "Loss :  tensor(0.7703, device='cuda:0', grad_fn=<NllLossBackward0>)\n",
      "Accuracy of the on test images :  20.0\n",
      "Accuracy :  0.4086\n",
      "Loss :  tensor(0.7379, device='cuda:0', grad_fn=<NllLossBackward0>)\n",
      "Accuracy of the on test images :  19.5\n",
      "Accuracy :  0.4244\n",
      "Loss :  tensor(0.6840, device='cuda:0', grad_fn=<NllLossBackward0>)\n",
      "Accuracy of the on test images :  18.2\n",
      "Accuracy :  0.4286\n",
      "Loss :  tensor(0.7290, device='cuda:0', grad_fn=<NllLossBackward0>)\n",
      "Accuracy of the on test images :  18.0\n",
      "Accuracy :  0.4628\n",
      "Loss :  tensor(0.5093, device='cuda:0', grad_fn=<NllLossBackward0>)\n",
      "Accuracy of the on test images :  16.9\n",
      "Accuracy :  0.4948\n",
      "Loss :  tensor(0.3849, device='cuda:0', grad_fn=<NllLossBackward0>)\n",
      "Accuracy of the on test images :  16.7\n",
      "Accuracy :  0.5044\n",
      "Loss :  tensor(0.3911, device='cuda:0', grad_fn=<NllLossBackward0>)\n",
      "Accuracy of the on test images :  15.9\n",
      "Accuracy :  0.5158\n",
      "Loss :  tensor(0.3818, device='cuda:0', grad_fn=<NllLossBackward0>)\n",
      "Accuracy of the on test images :  17.4\n",
      "Accuracy :  0.5526\n",
      "Loss :  tensor(0.3352, device='cuda:0', grad_fn=<NllLossBackward0>)\n",
      "Accuracy of the on test images :  16.4\n",
      "Accuracy :  0.5754\n",
      "Loss :  tensor(0.3003, device='cuda:0', grad_fn=<NllLossBackward0>)\n",
      "Accuracy of the on test images :  15.5\n",
      "Accuracy :  0.601\n",
      "Loss :  tensor(0.2100, device='cuda:0', grad_fn=<NllLossBackward0>)\n",
      "Accuracy of the on test images :  15.3\n",
      "Accuracy :  0.6202\n",
      "Loss :  tensor(0.2512, device='cuda:0', grad_fn=<NllLossBackward0>)\n",
      "Accuracy of the on test images :  17.7\n",
      "Accuracy :  0.6168\n",
      "Loss :  tensor(0.1664, device='cuda:0', grad_fn=<NllLossBackward0>)\n",
      "-------------------------------------\n",
      "Accuracy :  0.1044\n",
      "Loss :  tensor(2.3112, device='cuda:0', grad_fn=<NllLossBackward0>)\n",
      "Accuracy of the on test images :  11.5\n",
      "Accuracy :  0.1252\n",
      "Loss :  tensor(2.2957, device='cuda:0', grad_fn=<NllLossBackward0>)\n",
      "Accuracy of the on test images :  11.9\n",
      "Accuracy :  0.1398\n",
      "Loss :  tensor(2.2232, device='cuda:0', grad_fn=<NllLossBackward0>)\n",
      "Accuracy of the on test images :  12.7\n",
      "Accuracy :  0.15\n",
      "Loss :  tensor(2.1881, device='cuda:0', grad_fn=<NllLossBackward0>)\n",
      "Accuracy of the on test images :  13.4\n",
      "Accuracy :  0.1602\n",
      "Loss :  tensor(2.1273, device='cuda:0', grad_fn=<NllLossBackward0>)\n",
      "Accuracy of the on test images :  14.1\n",
      "Accuracy :  0.1724\n",
      "Loss :  tensor(2.0491, device='cuda:0', grad_fn=<NllLossBackward0>)\n",
      "Accuracy of the on test images :  13.4\n",
      "Accuracy :  0.1842\n",
      "Loss :  tensor(1.9873, device='cuda:0', grad_fn=<NllLossBackward0>)\n",
      "Accuracy of the on test images :  14.1\n",
      "Accuracy :  0.1914\n",
      "Loss :  tensor(1.9465, device='cuda:0', grad_fn=<NllLossBackward0>)\n",
      "Accuracy of the on test images :  12.9\n",
      "Accuracy :  0.2014\n",
      "Loss :  tensor(1.8765, device='cuda:0', grad_fn=<NllLossBackward0>)\n",
      "Accuracy of the on test images :  14.7\n",
      "Accuracy :  0.213\n",
      "Loss :  tensor(1.8151, device='cuda:0', grad_fn=<NllLossBackward0>)\n",
      "Accuracy of the on test images :  14.0\n",
      "Accuracy :  0.2344\n",
      "Loss :  tensor(1.6707, device='cuda:0', grad_fn=<NllLossBackward0>)\n",
      "Accuracy of the on test images :  13.5\n",
      "Accuracy :  0.2462\n",
      "Loss :  tensor(1.5964, device='cuda:0', grad_fn=<NllLossBackward0>)\n",
      "Accuracy of the on test images :  14.5\n",
      "Accuracy :  0.2638\n",
      "Loss :  tensor(1.4937, device='cuda:0', grad_fn=<NllLossBackward0>)\n",
      "Accuracy of the on test images :  14.5\n",
      "Accuracy :  0.2672\n",
      "Loss :  tensor(1.3725, device='cuda:0', grad_fn=<NllLossBackward0>)\n",
      "Accuracy of the on test images :  13.7\n",
      "Accuracy :  0.2794\n",
      "Loss :  tensor(1.3852, device='cuda:0', grad_fn=<NllLossBackward0>)\n",
      "Accuracy of the on test images :  14.0\n",
      "Accuracy :  0.2932\n",
      "Loss :  tensor(1.3164, device='cuda:0', grad_fn=<NllLossBackward0>)\n",
      "Accuracy of the on test images :  15.5\n",
      "Accuracy :  0.32\n",
      "Loss :  tensor(1.1858, device='cuda:0', grad_fn=<NllLossBackward0>)\n",
      "Accuracy of the on test images :  14.7\n",
      "Accuracy :  0.3414\n",
      "Loss :  tensor(1.0474, device='cuda:0', grad_fn=<NllLossBackward0>)\n",
      "Accuracy of the on test images :  13.4\n",
      "Accuracy :  0.3572\n",
      "Loss :  tensor(1.0400, device='cuda:0', grad_fn=<NllLossBackward0>)\n",
      "Accuracy of the on test images :  13.7\n",
      "Accuracy :  0.369\n",
      "Loss :  tensor(1.0684, device='cuda:0', grad_fn=<NllLossBackward0>)\n",
      "Accuracy of the on test images :  12.6\n",
      "Accuracy :  0.384\n",
      "Loss :  tensor(1.0370, device='cuda:0', grad_fn=<NllLossBackward0>)\n",
      "Accuracy of the on test images :  12.2\n",
      "Accuracy :  0.4082\n",
      "Loss :  tensor(0.9077, device='cuda:0', grad_fn=<NllLossBackward0>)\n",
      "Accuracy of the on test images :  12.5\n",
      "Accuracy :  0.4206\n",
      "Loss :  tensor(0.8380, device='cuda:0', grad_fn=<NllLossBackward0>)\n",
      "Accuracy of the on test images :  11.7\n",
      "Accuracy :  0.4238\n",
      "Loss :  tensor(1.0020, device='cuda:0', grad_fn=<NllLossBackward0>)\n",
      "Accuracy of the on test images :  13.6\n",
      "Accuracy :  0.449\n",
      "Loss :  tensor(0.8166, device='cuda:0', grad_fn=<NllLossBackward0>)\n",
      "Accuracy of the on test images :  11.9\n",
      "Accuracy :  0.4568\n",
      "Loss :  tensor(0.7216, device='cuda:0', grad_fn=<NllLossBackward0>)\n",
      "Accuracy of the on test images :  10.5\n",
      "Accuracy :  0.4828\n",
      "Loss :  tensor(0.7275, device='cuda:0', grad_fn=<NllLossBackward0>)\n",
      "Accuracy of the on test images :  12.5\n",
      "Accuracy :  0.5\n",
      "Loss :  tensor(0.8806, device='cuda:0', grad_fn=<NllLossBackward0>)\n",
      "Accuracy of the on test images :  12.7\n",
      "Accuracy :  0.5042\n",
      "Loss :  tensor(0.6923, device='cuda:0', grad_fn=<NllLossBackward0>)\n",
      "Accuracy of the on test images :  13.1\n",
      "Accuracy :  0.5034\n",
      "Loss :  tensor(0.9518, device='cuda:0', grad_fn=<NllLossBackward0>)\n",
      "-------------------------------------\n",
      "Accuracy :  0.0944\n",
      "Loss :  tensor(2.3026, device='cuda:0', grad_fn=<NllLossBackward0>)\n",
      "Accuracy of the on test images :  9.9\n",
      "Accuracy :  0.1246\n",
      "Loss :  tensor(2.3086, device='cuda:0', grad_fn=<NllLossBackward0>)\n",
      "Accuracy of the on test images :  11.5\n",
      "Accuracy :  0.1322\n",
      "Loss :  tensor(2.2974, device='cuda:0', grad_fn=<NllLossBackward0>)\n",
      "Accuracy of the on test images :  11.2\n",
      "Accuracy :  0.1376\n",
      "Loss :  tensor(2.2981, device='cuda:0', grad_fn=<NllLossBackward0>)\n",
      "Accuracy of the on test images :  10.7\n",
      "Accuracy :  0.1468\n",
      "Loss :  tensor(2.2767, device='cuda:0', grad_fn=<NllLossBackward0>)\n",
      "Accuracy of the on test images :  10.3\n",
      "Accuracy :  0.1532\n",
      "Loss :  tensor(2.2583, device='cuda:0', grad_fn=<NllLossBackward0>)\n",
      "Accuracy of the on test images :  10.5\n",
      "Accuracy :  0.1596\n",
      "Loss :  tensor(2.2384, device='cuda:0', grad_fn=<NllLossBackward0>)\n",
      "Accuracy of the on test images :  10.4\n",
      "Accuracy :  0.165\n",
      "Loss :  tensor(2.2279, device='cuda:0', grad_fn=<NllLossBackward0>)\n",
      "Accuracy of the on test images :  9.8\n",
      "Accuracy :  0.1714\n",
      "Loss :  tensor(2.2186, device='cuda:0', grad_fn=<NllLossBackward0>)\n",
      "Accuracy of the on test images :  9.5\n",
      "Accuracy :  0.1752\n",
      "Loss :  tensor(2.1869, device='cuda:0', grad_fn=<NllLossBackward0>)\n",
      "Accuracy of the on test images :  9.5\n",
      "Accuracy :  0.1858\n",
      "Loss :  tensor(2.1553, device='cuda:0', grad_fn=<NllLossBackward0>)\n",
      "Accuracy of the on test images :  10.5\n",
      "Accuracy :  0.1948\n",
      "Loss :  tensor(2.1510, device='cuda:0', grad_fn=<NllLossBackward0>)\n",
      "Accuracy of the on test images :  11.0\n",
      "Accuracy :  0.2\n",
      "Loss :  tensor(2.1330, device='cuda:0', grad_fn=<NllLossBackward0>)\n",
      "Accuracy of the on test images :  10.2\n",
      "Accuracy :  0.2086\n",
      "Loss :  tensor(2.0912, device='cuda:0', grad_fn=<NllLossBackward0>)\n",
      "Accuracy of the on test images :  11.0\n",
      "Accuracy :  0.2162\n",
      "Loss :  tensor(2.0108, device='cuda:0', grad_fn=<NllLossBackward0>)\n",
      "Accuracy of the on test images :  10.8\n",
      "Accuracy :  0.235\n",
      "Loss :  tensor(2.0175, device='cuda:0', grad_fn=<NllLossBackward0>)\n",
      "Accuracy of the on test images :  9.8\n",
      "Accuracy :  0.241\n",
      "Loss :  tensor(2.0252, device='cuda:0', grad_fn=<NllLossBackward0>)\n",
      "Accuracy of the on test images :  11.0\n",
      "Accuracy :  0.2474\n",
      "Loss :  tensor(1.9178, device='cuda:0', grad_fn=<NllLossBackward0>)\n",
      "Accuracy of the on test images :  11.3\n",
      "Accuracy :  0.2454\n",
      "Loss :  tensor(1.9424, device='cuda:0', grad_fn=<NllLossBackward0>)\n"
     ]
    }
   ],
   "source": [
    "per = 0\n",
    "for i in range(6):\n",
    "  model = SimpleAlex(inchannels,kernelsize,stride,padding,poolsize,fc_size1,fc_size2,no_classes).to(device)\n",
    "  optimizer = torch.optim.SGD(model.parameters(),lr=0.01, weight_decay = 0.005, momentum = 0.9)\n",
    "  train_labels = torch.zeros(len(traindata)*batchsize)\n",
    "  test_labels = torch.zeros(len(testdata)*batchsize)\n",
    "  trainnum = 0\n",
    "  testnum = 0\n",
    "  for i,data in enumerate(traindata):\n",
    "    for j in range(len(data[1])):\n",
    "      train_labels[trainnum] = data[1][j]\n",
    "      trainnum+=1\n",
    "  for i,data in enumerate(testdata):\n",
    "    for j in range(len(data[1])):\n",
    "      test_labels[testnum] = data[1][j]\n",
    "      testnum+=1\n",
    "  print(\"-------------------------------------\")\n",
    "  localtraining_data = traindata\n",
    "  localtest_data = testdata\n",
    "  if per!=0:\n",
    "    trainls = random.sample(range(0,(len(traindata)*batchsize)),int((len(traindata)*batchsize)*per/100))\n",
    "    testls = random.sample(range(0,(len(testdata)*batchsize)),int((len(testdata)*batchsize)*per/100))\n",
    "    trainls.sort()\n",
    "    testls.sort()\n",
    "    for i in range(len(trainls)):\n",
    "      train_labels[trainls[i]] = random.randint(0,9)\n",
    "    for i in range(len(testls)):\n",
    "      test_labels[testls[i]] = random.randint(0,9)\n",
    "  training(model,localtraining_data,localtest_data,optimizer,train_labels,test_labels)\n",
    "  per+=20"
   ]
  },
  {
   "cell_type": "code",
   "execution_count": 18,
   "metadata": {
    "colab": {
     "base_uri": "https://localhost:8080/"
    },
    "id": "ikvkx7YfRfOO",
    "outputId": "574b88d7-09b6-4945-f9a4-632551c83db5"
   },
   "outputs": [
    {
     "name": "stdout",
     "output_type": "stream",
     "text": [
      "[18, 21, 28, 24, 30, 19]\n"
     ]
    }
   ],
   "source": [
    "print(alex_overfitcounts)"
   ]
  },
  {
   "cell_type": "code",
   "execution_count": 19,
   "metadata": {
    "colab": {
     "base_uri": "https://localhost:8080/"
    },
    "id": "eZERxL-PRmT_",
    "outputId": "5e553665-a6df-4efd-9efb-6ed476eab0df"
   },
   "outputs": [
    {
     "name": "stdout",
     "output_type": "stream",
     "text": [
      "[45.6, 31.9, 23.5, 16.0, 11.7, 10.4]\n"
     ]
    }
   ],
   "source": [
    "print(alex_testaccuracies)"
   ]
  },
  {
   "cell_type": "code",
   "execution_count": 20,
   "metadata": {
    "colab": {
     "base_uri": "https://localhost:8080/",
     "height": 312
    },
    "id": "BbGc0DQ_U48c",
    "outputId": "a34abc84-55ed-4445-c540-e721ccc8de72"
   },
   "outputs": [
    {
     "data": {
      "text/plain": [
       "Text(0.5, 1.0, 'Simple Alex')"
      ]
     },
     "execution_count": 20,
     "metadata": {},
     "output_type": "execute_result"
    },
    {
     "data": {
      "image/png": "[encoded data removed]",
      "text/plain": [
       "<Figure size 432x288 with 1 Axes>"
      ]
     },
     "metadata": {
      "needs_background": "light"
     },
     "output_type": "display_data"
    }
   ],
   "source": [
    "p = [1,2,3,4,5,6]\n",
    "plt.plot(p,alex_overfitcounts)\n",
    "plt.xlabel(\"Corruption Rate\")\n",
    "plt.ylabel(\"Overfitting Counts\")\n",
    "plt.title(\"Simple Alex\")"
   ]
  },
  {
   "cell_type": "code",
   "execution_count": 21,
   "metadata": {
    "colab": {
     "base_uri": "https://localhost:8080/",
     "height": 312
    },
    "id": "z2vNzqj7VOcm",
    "outputId": "19610c6a-797d-4885-d8a8-3f391610c680"
   },
   "outputs": [
    {
     "data": {
      "text/plain": [
       "Text(0.5, 1.0, 'Simple Alex')"
      ]
     },
     "execution_count": 21,
     "metadata": {},
     "output_type": "execute_result"
    },
    {
     "data": {
      "image/png": "[encoded data removed]",
      "text/plain": [
       "<Figure size 432x288 with 1 Axes>"
      ]
     },
     "metadata": {
      "needs_background": "light"
     },
     "output_type": "display_data"
    }
   ],
   "source": [
    "plt.plot(p,alex_testaccuracies)\n",
    "plt.xlabel(\"Testing Accuracies\")\n",
    "plt.ylabel(\"Overfitting Counts\")\n",
    "plt.title(\"Simple Alex\")"
   ]
  }
 ],
 "metadata": {
  "accelerator": "GPU",
  "colab": {
   "provenance": []
  },
  "gpuClass": "standard",
  "kernelspec": {
   "display_name": "Python 3 (ipykernel)",
   "language": "python",
   "name": "python3"
  },
  "language_info": {
   "codemirror_mode": {
    "name": "ipython",
    "version": 3
   },
   "file_extension": ".py",
   "mimetype": "text/x-python",
   "name": "python",
   "nbconvert_exporter": "python",
   "pygments_lexer": "ipython3",
   "version": "3.8.10"
  },
  "widgets": {
   "application/vnd.jupyter.widget-state+json": {
    "05f97486659d4f50ad629ae83f816dde": {
     "model_module": "@jupyter-widgets/base",
     "model_module_version": "1.2.0",
     "model_name": "LayoutModel",
     "state": {
      "_model_module": "@jupyter-widgets/base",
      "_model_module_version": "1.2.0",
      "_model_name": "LayoutModel",
      "_view_count": null,
      "_view_module": "@jupyter-widgets/base",
      "_view_module_version": "1.2.0",
      "_view_name": "LayoutView",
      "align_content": null,
      "align_items": null,
      "align_self": null,
      "border": null,
      "bottom": null,
      "display": null,
      "flex": null,
      "flex_flow": null,
      "grid_area": null,
      "grid_auto_columns": null,
      "grid_auto_flow": null,
      "grid_auto_rows": null,
      "grid_column": null,
      "grid_gap": null,
      "grid_row": null,
      "grid_template_areas": null,
      "grid_template_columns": null,
      "grid_template_rows": null,
      "height": null,
      "justify_content": null,
      "justify_items": null,
      "left": null,
      "margin": null,
      "max_height": null,
      "max_width": null,
      "min_height": null,
      "min_width": null,
      "object_fit": null,
      "object_position": null,
      "order": null,
      "overflow": null,
      "overflow_x": null,
      "overflow_y": null,
      "padding": null,
      "right": null,
      "top": null,
      "visibility": null,
      "width": null
     }
    },
    "074f0988d0f44340b6f8b3115a610458": {
     "model_module": "@jupyter-widgets/controls",
     "model_module_version": "1.5.0",
     "model_name": "HBoxModel",
     "state": {
      "_dom_classes": [],
      "_model_module": "@jupyter-widgets/controls",
      "_model_module_version": "1.5.0",
      "_model_name": "HBoxModel",
      "_view_count": null,
      "_view_module": "@jupyter-widgets/controls",
      "_view_module_version": "1.5.0",
      "_view_name": "HBoxView",
      "box_style": "",
      "children": [
       "IPY_MODEL_3a39f763d7384d65b7f020a801137701",
       "IPY_MODEL_d52a9c626e4649dc821887fae3c6013e",
       "IPY_MODEL_0a976652fc1e4b01a6e9e9bb3d02beca"
      ],
      "layout": "IPY_MODEL_c50c572141ea43e7a6645bb026023ac0"
     }
    },
    "0a976652fc1e4b01a6e9e9bb3d02beca": {
     "model_module": "@jupyter-widgets/controls",
     "model_module_version": "1.5.0",
     "model_name": "HTMLModel",
     "state": {
      "_dom_classes": [],
      "_model_module": "@jupyter-widgets/controls",
      "_model_module_version": "1.5.0",
      "_model_name": "HTMLModel",
      "_view_count": null,
      "_view_module": "@jupyter-widgets/controls",
      "_view_module_version": "1.5.0",
      "_view_name": "HTMLView",
      "description": "",
      "description_tooltip": null,
      "layout": "IPY_MODEL_246f150b36af444890a38cb3d9db560b",
      "placeholder": "​",
      "style": "IPY_MODEL_4ca7ba5129c74ba1999388451f6e1843",
      "value": " 170498071/170498071 [00:17&lt;00:00, 13511351.26it/s]"
     }
    },
    "246f150b36af444890a38cb3d9db560b": {
     "model_module": "@jupyter-widgets/base",
     "model_module_version": "1.2.0",
     "model_name": "LayoutModel",
     "state": {
      "_model_module": "@jupyter-widgets/base",
      "_model_module_version": "1.2.0",
      "_model_name": "LayoutModel",
      "_view_count": null,
      "_view_module": "@jupyter-widgets/base",
      "_view_module_version": "1.2.0",
      "_view_name": "LayoutView",
      "align_content": null,
      "align_items": null,
      "align_self": null,
      "border": null,
      "bottom": null,
      "display": null,
      "flex": null,
      "flex_flow": null,
      "grid_area": null,
      "grid_auto_columns": null,
      "grid_auto_flow": null,
      "grid_auto_rows": null,
      "grid_column": null,
      "grid_gap": null,
      "grid_row": null,
      "grid_template_areas": null,
      "grid_template_columns": null,
      "grid_template_rows": null,
      "height": null,
      "justify_content": null,
      "justify_items": null,
      "left": null,
      "margin": null,
      "max_height": null,
      "max_width": null,
      "min_height": null,
      "min_width": null,
      "object_fit": null,
      "object_position": null,
      "order": null,
      "overflow": null,
      "overflow_x": null,
      "overflow_y": null,
      "padding": null,
      "right": null,
      "top": null,
      "visibility": null,
      "width": null
     }
    },
    "3a39f763d7384d65b7f020a801137701": {
     "model_module": "@jupyter-widgets/controls",
     "model_module_version": "1.5.0",
     "model_name": "HTMLModel",
     "state": {
      "_dom_classes": [],
      "_model_module": "@jupyter-widgets/controls",
      "_model_module_version": "1.5.0",
      "_model_name": "HTMLModel",
      "_view_count": null,
      "_view_module": "@jupyter-widgets/controls",
      "_view_module_version": "1.5.0",
      "_view_name": "HTMLView",
      "description": "",
      "description_tooltip": null,
      "layout": "IPY_MODEL_05f97486659d4f50ad629ae83f816dde",
      "placeholder": "​",
      "style": "IPY_MODEL_7ab77790f5a14fee873c9c1b3816d007",
      "value": "100%"
     }
    },
    "3ebf3db2de7449848dc21bce809df35c": {
     "model_module": "@jupyter-widgets/controls",
     "model_module_version": "1.5.0",
     "model_name": "ProgressStyleModel",
     "state": {
      "_model_module": "@jupyter-widgets/controls",
      "_model_module_version": "1.5.0",
      "_model_name": "ProgressStyleModel",
      "_view_count": null,
      "_view_module": "@jupyter-widgets/base",
      "_view_module_version": "1.2.0",
      "_view_name": "StyleView",
      "bar_color": null,
      "description_width": ""
     }
    },
    "4ca7ba5129c74ba1999388451f6e1843": {
     "model_module": "@jupyter-widgets/controls",
     "model_module_version": "1.5.0",
     "model_name": "DescriptionStyleModel",
     "state": {
      "_model_module": "@jupyter-widgets/controls",
      "_model_module_version": "1.5.0",
      "_model_name": "DescriptionStyleModel",
      "_view_count": null,
      "_view_module": "@jupyter-widgets/base",
      "_view_module_version": "1.2.0",
      "_view_name": "StyleView",
      "description_width": ""
     }
    },
    "7ab77790f5a14fee873c9c1b3816d007": {
     "model_module": "@jupyter-widgets/controls",
     "model_module_version": "1.5.0",
     "model_name": "DescriptionStyleModel",
     "state": {
      "_model_module": "@jupyter-widgets/controls",
      "_model_module_version": "1.5.0",
      "_model_name": "DescriptionStyleModel",
      "_view_count": null,
      "_view_module": "@jupyter-widgets/base",
      "_view_module_version": "1.2.0",
      "_view_name": "StyleView",
      "description_width": ""
     }
    },
    "af0b5af5648541d2a698dab6f3714fb7": {
     "model_module": "@jupyter-widgets/base",
     "model_module_version": "1.2.0",
     "model_name": "LayoutModel",
     "state": {
      "_model_module": "@jupyter-widgets/base",
      "_model_module_version": "1.2.0",
      "_model_name": "LayoutModel",
      "_view_count": null,
      "_view_module": "@jupyter-widgets/base",
      "_view_module_version": "1.2.0",
      "_view_name": "LayoutView",
      "align_content": null,
      "align_items": null,
      "align_self": null,
      "border": null,
      "bottom": null,
      "display": null,
      "flex": null,
      "flex_flow": null,
      "grid_area": null,
      "grid_auto_columns": null,
      "grid_auto_flow": null,
      "grid_auto_rows": null,
      "grid_column": null,
      "grid_gap": null,
      "grid_row": null,
      "grid_template_areas": null,
      "grid_template_columns": null,
      "grid_template_rows": null,
      "height": null,
      "justify_content": null,
      "justify_items": null,
      "left": null,
      "margin": null,
      "max_height": null,
      "max_width": null,
      "min_height": null,
      "min_width": null,
      "object_fit": null,
      "object_position": null,
      "order": null,
      "overflow": null,
      "overflow_x": null,
      "overflow_y": null,
      "padding": null,
      "right": null,
      "top": null,
      "visibility": null,
      "width": null
     }
    },
    "c50c572141ea43e7a6645bb026023ac0": {
     "model_module": "@jupyter-widgets/base",
     "model_module_version": "1.2.0",
     "model_name": "LayoutModel",
     "state": {
      "_model_module": "@jupyter-widgets/base",
      "_model_module_version": "1.2.0",
      "_model_name": "LayoutModel",
      "_view_count": null,
      "_view_module": "@jupyter-widgets/base",
      "_view_module_version": "1.2.0",
      "_view_name": "LayoutView",
      "align_content": null,
      "align_items": null,
      "align_self": null,
      "border": null,
      "bottom": null,
      "display": null,
      "flex": null,
      "flex_flow": null,
      "grid_area": null,
      "grid_auto_columns": null,
      "grid_auto_flow": null,
      "grid_auto_rows": null,
      "grid_column": null,
      "grid_gap": null,
      "grid_row": null,
      "grid_template_areas": null,
      "grid_template_columns": null,
      "grid_template_rows": null,
      "height": null,
      "justify_content": null,
      "justify_items": null,
      "left": null,
      "margin": null,
      "max_height": null,
      "max_width": null,
      "min_height": null,
      "min_width": null,
      "object_fit": null,
      "object_position": null,
      "order": null,
      "overflow": null,
      "overflow_x": null,
      "overflow_y": null,
      "padding": null,
      "right": null,
      "top": null,
      "visibility": null,
      "width": null
     }
    },
    "d52a9c626e4649dc821887fae3c6013e": {
     "model_module": "@jupyter-widgets/controls",
     "model_module_version": "1.5.0",
     "model_name": "FloatProgressModel",
     "state": {
      "_dom_classes": [],
      "_model_module": "@jupyter-widgets/controls",
      "_model_module_version": "1.5.0",
      "_model_name": "FloatProgressModel",
      "_view_count": null,
      "_view_module": "@jupyter-widgets/controls",
      "_view_module_version": "1.5.0",
      "_view_name": "ProgressView",
      "bar_style": "success",
      "description": "",
      "description_tooltip": null,
      "layout": "IPY_MODEL_af0b5af5648541d2a698dab6f3714fb7",
      "max": 170498071,
      "min": 0,
      "orientation": "horizontal",
      "style": "IPY_MODEL_3ebf3db2de7449848dc21bce809df35c",
      "value": 170498071
     }
    }
   }
  }
 },
 "nbformat": 4,
 "nbformat_minor": 1
}
