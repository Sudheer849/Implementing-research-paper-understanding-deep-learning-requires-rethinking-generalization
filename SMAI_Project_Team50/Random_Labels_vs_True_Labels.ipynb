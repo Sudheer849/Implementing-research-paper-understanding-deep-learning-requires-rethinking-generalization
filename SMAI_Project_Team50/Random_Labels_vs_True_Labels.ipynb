{
  "nbformat": 4,
  "nbformat_minor": 0,
  "metadata": {
    "colab": {
      "provenance": []
    },
    "kernelspec": {
      "name": "python3",
      "display_name": "Python 3"
    },
    "language_info": {
      "name": "python"
    },
    "accelerator": "GPU",
    "gpuClass": "standard",
    "widgets": {
      "application/vnd.jupyter.widget-state+json": {
        "91661f6ea2714371bb0aa2cd91da7ba9": {
          "model_module": "@jupyter-widgets/controls",
          "model_name": "HBoxModel",
          "model_module_version": "1.5.0",
          "state": {
            "_dom_classes": [],
            "_model_module": "@jupyter-widgets/controls",
            "_model_module_version": "1.5.0",
            "_model_name": "HBoxModel",
            "_view_count": null,
            "_view_module": "@jupyter-widgets/controls",
            "_view_module_version": "1.5.0",
            "_view_name": "HBoxView",
            "box_style": "",
            "children": [
              "IPY_MODEL_d68ba3f229734458b1b5328c58d7ba87",
              "IPY_MODEL_742ba784041e4240bb49653bd53e371b",
              "IPY_MODEL_000131d964744ee3a91d7f15553568e0"
            ],
            "layout": "IPY_MODEL_1a12243df9b044c2a87c0f96c551e5a3"
          }
        },
        "d68ba3f229734458b1b5328c58d7ba87": {
          "model_module": "@jupyter-widgets/controls",
          "model_name": "HTMLModel",
          "model_module_version": "1.5.0",
          "state": {
            "_dom_classes": [],
            "_model_module": "@jupyter-widgets/controls",
            "_model_module_version": "1.5.0",
            "_model_name": "HTMLModel",
            "_view_count": null,
            "_view_module": "@jupyter-widgets/controls",
            "_view_module_version": "1.5.0",
            "_view_name": "HTMLView",
            "description": "",
            "description_tooltip": null,
            "layout": "IPY_MODEL_4742a7ffb81d462299214dcfa82c4701",
            "placeholder": "​",
            "style": "IPY_MODEL_fd4718c0191a41fcbe115d614b426009",
            "value": "100%"
          }
        },
        "742ba784041e4240bb49653bd53e371b": {
          "model_module": "@jupyter-widgets/controls",
          "model_name": "FloatProgressModel",
          "model_module_version": "1.5.0",
          "state": {
            "_dom_classes": [],
            "_model_module": "@jupyter-widgets/controls",
            "_model_module_version": "1.5.0",
            "_model_name": "FloatProgressModel",
            "_view_count": null,
            "_view_module": "@jupyter-widgets/controls",
            "_view_module_version": "1.5.0",
            "_view_name": "ProgressView",
            "bar_style": "success",
            "description": "",
            "description_tooltip": null,
            "layout": "IPY_MODEL_72f0fdf19b0f488f8f13093dec93b3d0",
            "max": 170498071,
            "min": 0,
            "orientation": "horizontal",
            "style": "IPY_MODEL_3516d150c236434d96f10c5b4940dd93",
            "value": 170498071
          }
        },
        "000131d964744ee3a91d7f15553568e0": {
          "model_module": "@jupyter-widgets/controls",
          "model_name": "HTMLModel",
          "model_module_version": "1.5.0",
          "state": {
            "_dom_classes": [],
            "_model_module": "@jupyter-widgets/controls",
            "_model_module_version": "1.5.0",
            "_model_name": "HTMLModel",
            "_view_count": null,
            "_view_module": "@jupyter-widgets/controls",
            "_view_module_version": "1.5.0",
            "_view_name": "HTMLView",
            "description": "",
            "description_tooltip": null,
            "layout": "IPY_MODEL_18752e564ccc43e09b52da59341aba3d",
            "placeholder": "​",
            "style": "IPY_MODEL_784e4b57039f44da89f8a911745e2881",
            "value": " 170498071/170498071 [00:13&lt;00:00, 13106628.80it/s]"
          }
        },
        "1a12243df9b044c2a87c0f96c551e5a3": {
          "model_module": "@jupyter-widgets/base",
          "model_name": "LayoutModel",
          "model_module_version": "1.2.0",
          "state": {
            "_model_module": "@jupyter-widgets/base",
            "_model_module_version": "1.2.0",
            "_model_name": "LayoutModel",
            "_view_count": null,
            "_view_module": "@jupyter-widgets/base",
            "_view_module_version": "1.2.0",
            "_view_name": "LayoutView",
            "align_content": null,
            "align_items": null,
            "align_self": null,
            "border": null,
            "bottom": null,
            "display": null,
            "flex": null,
            "flex_flow": null,
            "grid_area": null,
            "grid_auto_columns": null,
            "grid_auto_flow": null,
            "grid_auto_rows": null,
            "grid_column": null,
            "grid_gap": null,
            "grid_row": null,
            "grid_template_areas": null,
            "grid_template_columns": null,
            "grid_template_rows": null,
            "height": null,
            "justify_content": null,
            "justify_items": null,
            "left": null,
            "margin": null,
            "max_height": null,
            "max_width": null,
            "min_height": null,
            "min_width": null,
            "object_fit": null,
            "object_position": null,
            "order": null,
            "overflow": null,
            "overflow_x": null,
            "overflow_y": null,
            "padding": null,
            "right": null,
            "top": null,
            "visibility": null,
            "width": null
          }
        },
        "4742a7ffb81d462299214dcfa82c4701": {
          "model_module": "@jupyter-widgets/base",
          "model_name": "LayoutModel",
          "model_module_version": "1.2.0",
          "state": {
            "_model_module": "@jupyter-widgets/base",
            "_model_module_version": "1.2.0",
            "_model_name": "LayoutModel",
            "_view_count": null,
            "_view_module": "@jupyter-widgets/base",
            "_view_module_version": "1.2.0",
            "_view_name": "LayoutView",
            "align_content": null,
            "align_items": null,
            "align_self": null,
            "border": null,
            "bottom": null,
            "display": null,
            "flex": null,
            "flex_flow": null,
            "grid_area": null,
            "grid_auto_columns": null,
            "grid_auto_flow": null,
            "grid_auto_rows": null,
            "grid_column": null,
            "grid_gap": null,
            "grid_row": null,
            "grid_template_areas": null,
            "grid_template_columns": null,
            "grid_template_rows": null,
            "height": null,
            "justify_content": null,
            "justify_items": null,
            "left": null,
            "margin": null,
            "max_height": null,
            "max_width": null,
            "min_height": null,
            "min_width": null,
            "object_fit": null,
            "object_position": null,
            "order": null,
            "overflow": null,
            "overflow_x": null,
            "overflow_y": null,
            "padding": null,
            "right": null,
            "top": null,
            "visibility": null,
            "width": null
          }
        },
        "fd4718c0191a41fcbe115d614b426009": {
          "model_module": "@jupyter-widgets/controls",
          "model_name": "DescriptionStyleModel",
          "model_module_version": "1.5.0",
          "state": {
            "_model_module": "@jupyter-widgets/controls",
            "_model_module_version": "1.5.0",
            "_model_name": "DescriptionStyleModel",
            "_view_count": null,
            "_view_module": "@jupyter-widgets/base",
            "_view_module_version": "1.2.0",
            "_view_name": "StyleView",
            "description_width": ""
          }
        },
        "72f0fdf19b0f488f8f13093dec93b3d0": {
          "model_module": "@jupyter-widgets/base",
          "model_name": "LayoutModel",
          "model_module_version": "1.2.0",
          "state": {
            "_model_module": "@jupyter-widgets/base",
            "_model_module_version": "1.2.0",
            "_model_name": "LayoutModel",
            "_view_count": null,
            "_view_module": "@jupyter-widgets/base",
            "_view_module_version": "1.2.0",
            "_view_name": "LayoutView",
            "align_content": null,
            "align_items": null,
            "align_self": null,
            "border": null,
            "bottom": null,
            "display": null,
            "flex": null,
            "flex_flow": null,
            "grid_area": null,
            "grid_auto_columns": null,
            "grid_auto_flow": null,
            "grid_auto_rows": null,
            "grid_column": null,
            "grid_gap": null,
            "grid_row": null,
            "grid_template_areas": null,
            "grid_template_columns": null,
            "grid_template_rows": null,
            "height": null,
            "justify_content": null,
            "justify_items": null,
            "left": null,
            "margin": null,
            "max_height": null,
            "max_width": null,
            "min_height": null,
            "min_width": null,
            "object_fit": null,
            "object_position": null,
            "order": null,
            "overflow": null,
            "overflow_x": null,
            "overflow_y": null,
            "padding": null,
            "right": null,
            "top": null,
            "visibility": null,
            "width": null
          }
        },
        "3516d150c236434d96f10c5b4940dd93": {
          "model_module": "@jupyter-widgets/controls",
          "model_name": "ProgressStyleModel",
          "model_module_version": "1.5.0",
          "state": {
            "_model_module": "@jupyter-widgets/controls",
            "_model_module_version": "1.5.0",
            "_model_name": "ProgressStyleModel",
            "_view_count": null,
            "_view_module": "@jupyter-widgets/base",
            "_view_module_version": "1.2.0",
            "_view_name": "StyleView",
            "bar_color": null,
            "description_width": ""
          }
        },
        "18752e564ccc43e09b52da59341aba3d": {
          "model_module": "@jupyter-widgets/base",
          "model_name": "LayoutModel",
          "model_module_version": "1.2.0",
          "state": {
            "_model_module": "@jupyter-widgets/base",
            "_model_module_version": "1.2.0",
            "_model_name": "LayoutModel",
            "_view_count": null,
            "_view_module": "@jupyter-widgets/base",
            "_view_module_version": "1.2.0",
            "_view_name": "LayoutView",
            "align_content": null,
            "align_items": null,
            "align_self": null,
            "border": null,
            "bottom": null,
            "display": null,
            "flex": null,
            "flex_flow": null,
            "grid_area": null,
            "grid_auto_columns": null,
            "grid_auto_flow": null,
            "grid_auto_rows": null,
            "grid_column": null,
            "grid_gap": null,
            "grid_row": null,
            "grid_template_areas": null,
            "grid_template_columns": null,
            "grid_template_rows": null,
            "height": null,
            "justify_content": null,
            "justify_items": null,
            "left": null,
            "margin": null,
            "max_height": null,
            "max_width": null,
            "min_height": null,
            "min_width": null,
            "object_fit": null,
            "object_position": null,
            "order": null,
            "overflow": null,
            "overflow_x": null,
            "overflow_y": null,
            "padding": null,
            "right": null,
            "top": null,
            "visibility": null,
            "width": null
          }
        },
        "784e4b57039f44da89f8a911745e2881": {
          "model_module": "@jupyter-widgets/controls",
          "model_name": "DescriptionStyleModel",
          "model_module_version": "1.5.0",
          "state": {
            "_model_module": "@jupyter-widgets/controls",
            "_model_module_version": "1.5.0",
            "_model_name": "DescriptionStyleModel",
            "_view_count": null,
            "_view_module": "@jupyter-widgets/base",
            "_view_module_version": "1.2.0",
            "_view_name": "StyleView",
            "description_width": ""
          }
        }
      }
    }
  },
  "cells": [
    {
      "cell_type": "code",
      "execution_count": 1,
      "metadata": {
        "id": "EnQYObBl-rX5"
      },
      "outputs": [],
      "source": [
        "import torch\n",
        "import numpy as np\n",
        "import pandas as pd\n",
        "import torch.nn as nn\n",
        "import torch.optim as optim\n",
        "import os\n",
        "import matplotlib.pyplot as plt\n",
        "import torch.nn.functional as F\n",
        "%matplotlib inline\n",
        "import random"
      ]
    },
    {
      "cell_type": "code",
      "source": [
        "import torchvision\n",
        "import torchvision.transforms as transforms"
      ],
      "metadata": {
        "id": "yibV8wb8-xzn"
      },
      "execution_count": 2,
      "outputs": []
    },
    {
      "cell_type": "code",
      "source": [
        "device = torch.device('cuda' if torch.cuda.is_available() else 'cpu')\n",
        "print('Device available now:', device)"
      ],
      "metadata": {
        "colab": {
          "base_uri": "https://localhost:8080/"
        },
        "id": "CGB1TwMF-_bv",
        "outputId": "fcf685c5-fb80-40f2-c32e-279c5aa9c187"
      },
      "execution_count": 3,
      "outputs": [
        {
          "output_type": "stream",
          "name": "stdout",
          "text": [
            "Device available now: cuda\n"
          ]
        }
      ]
    },
    {
      "cell_type": "code",
      "source": [
        "image_transforms = transforms.Compose(\n",
        "         [transforms.ToTensor(),\n",
        "         transforms.CenterCrop(28),\n",
        "         transforms.Normalize((0.5), (0.5))]\n",
        ")"
      ],
      "metadata": {
        "id": "hC574h6k_BEX"
      },
      "execution_count": 4,
      "outputs": []
    },
    {
      "cell_type": "code",
      "source": [
        "batchsize = 32\n",
        "rowsize = 28\n",
        "colsize = 28\n",
        "inchannels = 3\n",
        "kernelsize = 5\n",
        "stride = 1\n",
        "padding = 0\n",
        "poolsize = 3\n",
        "fc_size1 = 384\n",
        "fc_size2 = 192\n",
        "no_classes = 10\n",
        "epochs = 40\n",
        "overfit_accuracy = 90"
      ],
      "metadata": {
        "id": "PRIfNSvk_Ckv"
      },
      "execution_count": 5,
      "outputs": []
    },
    {
      "cell_type": "code",
      "source": [
        "alex_overfitcounts = []\n",
        "alex_testaccuracies = []"
      ],
      "metadata": {
        "id": "STA6VJzK_D5n"
      },
      "execution_count": 6,
      "outputs": []
    },
    {
      "cell_type": "code",
      "source": [
        "train = torchvision.datasets.CIFAR10(root='./', train=True, download=True, transform=image_transforms)\n",
        "test = torchvision.datasets.CIFAR10(root='./', train=False, transform=image_transforms)"
      ],
      "metadata": {
        "colab": {
          "base_uri": "https://localhost:8080/",
          "height": 84,
          "referenced_widgets": [
            "91661f6ea2714371bb0aa2cd91da7ba9",
            "d68ba3f229734458b1b5328c58d7ba87",
            "742ba784041e4240bb49653bd53e371b",
            "000131d964744ee3a91d7f15553568e0",
            "1a12243df9b044c2a87c0f96c551e5a3",
            "4742a7ffb81d462299214dcfa82c4701",
            "fd4718c0191a41fcbe115d614b426009",
            "72f0fdf19b0f488f8f13093dec93b3d0",
            "3516d150c236434d96f10c5b4940dd93",
            "18752e564ccc43e09b52da59341aba3d",
            "784e4b57039f44da89f8a911745e2881"
          ]
        },
        "id": "5EF68ino_FzA",
        "outputId": "b4170df8-4345-4bf2-df61-cd284597063e"
      },
      "execution_count": 7,
      "outputs": [
        {
          "output_type": "stream",
          "name": "stdout",
          "text": [
            "Downloading https://www.cs.toronto.edu/~kriz/cifar-10-python.tar.gz to ./cifar-10-python.tar.gz\n"
          ]
        },
        {
          "output_type": "display_data",
          "data": {
            "text/plain": [
              "  0%|          | 0/170498071 [00:00<?, ?it/s]"
            ],
            "application/vnd.jupyter.widget-view+json": {
              "version_major": 2,
              "version_minor": 0,
              "model_id": "91661f6ea2714371bb0aa2cd91da7ba9"
            }
          },
          "metadata": {}
        },
        {
          "output_type": "stream",
          "name": "stdout",
          "text": [
            "Extracting ./cifar-10-python.tar.gz to ./\n"
          ]
        }
      ]
    },
    {
      "cell_type": "code",
      "source": [
        "trainindices = list(range(0, len(train), 10))\n",
        "testindices = list(range(0, len(test),10))\n",
        "trainset = torch.utils.data.Subset(train,trainindices)\n",
        "testset = torch.utils.data.Subset(test,testindices)"
      ],
      "metadata": {
        "id": "2Z8rt_l4_HPx"
      },
      "execution_count": 8,
      "outputs": []
    },
    {
      "cell_type": "code",
      "source": [
        "traindata = torch.utils.data.DataLoader(trainset,batch_size=batchsize, shuffle=False, num_workers=2,pin_memory=True)\n",
        "testdata = torch.utils.data.DataLoader(testset,batch_size=batchsize, shuffle=False, num_workers=2,pin_memory=True)"
      ],
      "metadata": {
        "id": "MKHBNcJ-_Iqw"
      },
      "execution_count": 9,
      "outputs": []
    },
    {
      "cell_type": "code",
      "source": [
        "train_labels = torch.zeros(len(traindata)*batchsize)\n",
        "test_labels = torch.zeros(len(testdata)*batchsize)\n",
        "trainnum = 0\n",
        "testnum = 0\n",
        "for i,data in enumerate(traindata):\n",
        "  for j in range(len(data[1])):\n",
        "    train_labels[trainnum] = data[1][j]\n",
        "    trainnum+=1\n",
        "for i,data in enumerate(testdata):\n",
        "  for j in range(len(data[1])):\n",
        "    test_labels[testnum] = data[1][j]\n",
        "    testnum+=1\n",
        "  "
      ],
      "metadata": {
        "id": "rm1xfQLl_NKR"
      },
      "execution_count": 10,
      "outputs": []
    },
    {
      "cell_type": "code",
      "source": [
        "class SimpleAlex(nn.Module):\n",
        "  def __init__(self,inchannels,kernelsize,stride,padding,poolsize,fc_size1,fc_size2,no_classes):\n",
        "    super(SimpleAlex, self).__init__()\n",
        "    self.conv1 = nn.Conv2d(inchannels,24,kernelsize,stride,padding)\n",
        "    self.pool1 = nn.MaxPool2d(poolsize,2)\n",
        "    self.BatchNorm1 = nn.BatchNorm2d(24)\n",
        "    self.conv2 = nn.Conv2d(24,48,kernelsize,stride,padding)\n",
        "    self.pool2 = nn.MaxPool2d(poolsize,2)\n",
        "    self.BatchNorm2 = nn.BatchNorm2d(48)\n",
        "    self.fc1 = nn.Linear(432,fc_size1)\n",
        "    self.fc2 = nn.Linear(fc_size1,fc_size2)\n",
        "    self.fc3 = nn.Linear(fc_size2,no_classes) \n",
        "\n",
        "  def forward(self, x):\n",
        "    x = F.relu(self.conv1(x))\n",
        "    x = self.pool1(x)\n",
        "    x = self.BatchNorm1(x)\n",
        "    x = F.relu(self.conv2(x))\n",
        "    x = self.pool2(x)\n",
        "    x = self.BatchNorm2(x)\n",
        "    x = torch.flatten(x,1)\n",
        "    x = F.relu(self.fc1(x))\n",
        "    x = F.relu(self.fc2(x))\n",
        "    x = F.relu(self.fc3(x))\n",
        "    return x"
      ],
      "metadata": {
        "id": "RVqaWtI7_PLK"
      },
      "execution_count": 11,
      "outputs": []
    },
    {
      "cell_type": "code",
      "source": [
        "model = SimpleAlex(inchannels,kernelsize,stride,padding,poolsize,fc_size1,fc_size2,no_classes).to(device)\n",
        "# model = SimpleAlex(no_classes).to(device)"
      ],
      "metadata": {
        "id": "jxrYqks1_Qx5"
      },
      "execution_count": 12,
      "outputs": []
    },
    {
      "cell_type": "code",
      "source": [
        "optimizer = torch.optim.SGD(model.parameters(),lr=0.01, weight_decay = 0.005, momentum = 0.9)\n",
        "criterion = nn.CrossEntropyLoss().to(device)"
      ],
      "metadata": {
        "id": "v0ELASOi_Sjz"
      },
      "execution_count": 13,
      "outputs": []
    },
    {
      "cell_type": "code",
      "source": [
        "import random\n",
        "randompixels = np.random.rand(batchsize*3*rowsize*colsize)\n",
        "print(len(randompixels))"
      ],
      "metadata": {
        "colab": {
          "base_uri": "https://localhost:8080/"
        },
        "id": "4VhARjyw_URy",
        "outputId": "a38c7e96-06ea-4d76-fe21-734317b2e608"
      },
      "execution_count": 14,
      "outputs": [
        {
          "output_type": "stream",
          "name": "stdout",
          "text": [
            "75264\n"
          ]
        }
      ]
    },
    {
      "cell_type": "code",
      "source": [
        "def training(model,traindata,testdata,optimizer,train_labels,test_labels,var):\n",
        "  ls = []\n",
        "  test_accuracies = []\n",
        "  test_accuracies.append(0)\n",
        "  test_accuracies.append(0)\n",
        "  test_accuracies.append(0)\n",
        "  count=0\n",
        "  flag=0\n",
        "  prev = 0\n",
        "  for ep in range(epochs):\n",
        "    print(\"---\")\n",
        "    Loss = 0\n",
        "    num_correct=0\n",
        "    tot = 0\n",
        "    pix_count = 0\n",
        "    testnum = 0\n",
        "    trainnum = 0\n",
        "    for i,data in enumerate(traindata):\n",
        "      # if we change the data here only when ep=1 then it would be sufficient \n",
        "      x_data = data[0].to(device)\n",
        "      labels = data[1].to(device)\n",
        "      if var==2:\n",
        "        # Here the data is x_data\n",
        "        pix_count=0\n",
        "        for image in range(len(x_data)):\n",
        "          for rgb in range(3):\n",
        "            for r in range(rowsize):\n",
        "              for c in range(colsize):\n",
        "                x_data[image][rgb][r][c] = randompixels[pix_count]\n",
        "                pix_count+=1\n",
        "      for j in range(len(x_data)):\n",
        "        labels[j] = train_labels[trainnum]\n",
        "        trainnum+=1\n",
        "      optimizer.zero_grad()\n",
        "      outputs = model(x_data)\n",
        "      _, pred = torch.max(outputs.data, 1)\n",
        "      num_correct += (pred == labels).sum().item()\n",
        "      tot += labels.size(0)\n",
        "      loss = criterion(outputs, labels)\n",
        "      loss.backward()\n",
        "      optimizer.step()\n",
        "      Loss += loss\n",
        "    ls.append(num_correct/tot)\n",
        "    print(\"Accuracy : \",num_correct/tot)\n",
        "    print(\"Loss : \",loss)\n",
        "    with torch.no_grad():\n",
        "      correct = 0\n",
        "      total = 0\n",
        "      for i,data in enumerate(testdata):\n",
        "          images = data[0]\n",
        "          labels = data[1]\n",
        "          images = images.to(device)\n",
        "          labels = labels.to(device)\n",
        "          for j in range(len(images)):\n",
        "             labels[j] = test_labels[testnum]\n",
        "             testnum+=1\n",
        "          outputs = model(images)\n",
        "          _, predicted = torch.max(outputs.data, 1)\n",
        "          total += labels.size(0)\n",
        "          correct += (predicted == labels).sum().item() \n",
        "      test_accuracies.append(100*correct/total)\n",
        "      print(\"Accuracy of the on test images : \",100 * correct / total)\n",
        "      count+=1\n",
        "  return ls"
      ],
      "metadata": {
        "id": "nBwSc0RJ_XRq"
      },
      "execution_count": 15,
      "outputs": []
    },
    {
      "cell_type": "code",
      "source": [
        "true_accuracies = []\n",
        "label_randaccuracies = []\n",
        "shufflepixels_accuracies = []\n",
        "randompixels_accuracies = []\n",
        "gaussian_accuracies = []"
      ],
      "metadata": {
        "id": "1JNs6CUw_Z0i"
      },
      "execution_count": 16,
      "outputs": []
    },
    {
      "cell_type": "code",
      "source": [
        "true_accuracies = training(model,traindata,testdata,optimizer,train_labels,test_labels,0)"
      ],
      "metadata": {
        "colab": {
          "base_uri": "https://localhost:8080/"
        },
        "id": "7Wf3zhzT_bNq",
        "outputId": "bd5fd7af-4f33-4607-cebd-97b42a3a9087"
      },
      "execution_count": 17,
      "outputs": [
        {
          "output_type": "stream",
          "name": "stdout",
          "text": [
            "---\n",
            "Accuracy :  0.2674\n",
            "Loss :  tensor(1.7100, device='cuda:0', grad_fn=<NllLossBackward0>)\n",
            "Accuracy of the on test images :  33.8\n",
            "---\n",
            "Accuracy :  0.4138\n",
            "Loss :  tensor(1.3691, device='cuda:0', grad_fn=<NllLossBackward0>)\n",
            "Accuracy of the on test images :  41.2\n",
            "---\n",
            "Accuracy :  0.485\n",
            "Loss :  tensor(0.9932, device='cuda:0', grad_fn=<NllLossBackward0>)\n",
            "Accuracy of the on test images :  46.3\n",
            "---\n",
            "Accuracy :  0.5494\n",
            "Loss :  tensor(0.6750, device='cuda:0', grad_fn=<NllLossBackward0>)\n",
            "Accuracy of the on test images :  48.1\n",
            "---\n",
            "Accuracy :  0.5974\n",
            "Loss :  tensor(0.6128, device='cuda:0', grad_fn=<NllLossBackward0>)\n",
            "Accuracy of the on test images :  49.0\n",
            "---\n",
            "Accuracy :  0.6438\n",
            "Loss :  tensor(0.4533, device='cuda:0', grad_fn=<NllLossBackward0>)\n",
            "Accuracy of the on test images :  48.3\n",
            "---\n",
            "Accuracy :  0.681\n",
            "Loss :  tensor(0.2873, device='cuda:0', grad_fn=<NllLossBackward0>)\n",
            "Accuracy of the on test images :  48.8\n",
            "---\n",
            "Accuracy :  0.7198\n",
            "Loss :  tensor(0.2734, device='cuda:0', grad_fn=<NllLossBackward0>)\n",
            "Accuracy of the on test images :  48.2\n",
            "---\n",
            "Accuracy :  0.7388\n",
            "Loss :  tensor(0.1842, device='cuda:0', grad_fn=<NllLossBackward0>)\n",
            "Accuracy of the on test images :  48.4\n",
            "---\n",
            "Accuracy :  0.7504\n",
            "Loss :  tensor(0.2385, device='cuda:0', grad_fn=<NllLossBackward0>)\n",
            "Accuracy of the on test images :  48.4\n",
            "---\n",
            "Accuracy :  0.7696\n",
            "Loss :  tensor(0.1948, device='cuda:0', grad_fn=<NllLossBackward0>)\n",
            "Accuracy of the on test images :  48.6\n",
            "---\n",
            "Accuracy :  0.7994\n",
            "Loss :  tensor(0.1739, device='cuda:0', grad_fn=<NllLossBackward0>)\n",
            "Accuracy of the on test images :  46.9\n",
            "---\n",
            "Accuracy :  0.82\n",
            "Loss :  tensor(0.0925, device='cuda:0', grad_fn=<NllLossBackward0>)\n",
            "Accuracy of the on test images :  46.6\n",
            "---\n",
            "Accuracy :  0.8296\n",
            "Loss :  tensor(0.0463, device='cuda:0', grad_fn=<NllLossBackward0>)\n",
            "Accuracy of the on test images :  46.8\n",
            "---\n",
            "Accuracy :  0.8428\n",
            "Loss :  tensor(0.0709, device='cuda:0', grad_fn=<NllLossBackward0>)\n",
            "Accuracy of the on test images :  48.9\n",
            "---\n",
            "Accuracy :  0.8594\n",
            "Loss :  tensor(0.0209, device='cuda:0', grad_fn=<NllLossBackward0>)\n",
            "Accuracy of the on test images :  48.1\n",
            "---\n",
            "Accuracy :  0.8932\n",
            "Loss :  tensor(0.0299, device='cuda:0', grad_fn=<NllLossBackward0>)\n",
            "Accuracy of the on test images :  47.8\n",
            "---\n",
            "Accuracy :  0.8912\n",
            "Loss :  tensor(0.0563, device='cuda:0', grad_fn=<NllLossBackward0>)\n",
            "Accuracy of the on test images :  47.4\n",
            "---\n",
            "Accuracy :  0.9014\n",
            "Loss :  tensor(0.0416, device='cuda:0', grad_fn=<NllLossBackward0>)\n",
            "Accuracy of the on test images :  48.4\n",
            "---\n",
            "Accuracy :  0.914\n",
            "Loss :  tensor(0.1333, device='cuda:0', grad_fn=<NllLossBackward0>)\n",
            "Accuracy of the on test images :  49.2\n",
            "---\n",
            "Accuracy :  0.922\n",
            "Loss :  tensor(0.0081, device='cuda:0', grad_fn=<NllLossBackward0>)\n",
            "Accuracy of the on test images :  50.5\n",
            "---\n",
            "Accuracy :  0.9282\n",
            "Loss :  tensor(0.1738, device='cuda:0', grad_fn=<NllLossBackward0>)\n",
            "Accuracy of the on test images :  48.9\n",
            "---\n",
            "Accuracy :  0.9238\n",
            "Loss :  tensor(0.0320, device='cuda:0', grad_fn=<NllLossBackward0>)\n",
            "Accuracy of the on test images :  50.9\n",
            "---\n",
            "Accuracy :  0.944\n",
            "Loss :  tensor(0.0221, device='cuda:0', grad_fn=<NllLossBackward0>)\n",
            "Accuracy of the on test images :  49.7\n",
            "---\n",
            "Accuracy :  0.9514\n",
            "Loss :  tensor(0.0188, device='cuda:0', grad_fn=<NllLossBackward0>)\n",
            "Accuracy of the on test images :  49.2\n",
            "---\n",
            "Accuracy :  0.9486\n",
            "Loss :  tensor(0.0077, device='cuda:0', grad_fn=<NllLossBackward0>)\n",
            "Accuracy of the on test images :  48.8\n",
            "---\n",
            "Accuracy :  0.96\n",
            "Loss :  tensor(0.0164, device='cuda:0', grad_fn=<NllLossBackward0>)\n",
            "Accuracy of the on test images :  50.9\n",
            "---\n",
            "Accuracy :  0.9618\n",
            "Loss :  tensor(0.0769, device='cuda:0', grad_fn=<NllLossBackward0>)\n",
            "Accuracy of the on test images :  49.2\n",
            "---\n",
            "Accuracy :  0.9686\n",
            "Loss :  tensor(0.0071, device='cuda:0', grad_fn=<NllLossBackward0>)\n",
            "Accuracy of the on test images :  48.8\n",
            "---\n",
            "Accuracy :  0.9752\n",
            "Loss :  tensor(0.0114, device='cuda:0', grad_fn=<NllLossBackward0>)\n",
            "Accuracy of the on test images :  49.6\n",
            "---\n",
            "Accuracy :  0.9744\n",
            "Loss :  tensor(0.0199, device='cuda:0', grad_fn=<NllLossBackward0>)\n",
            "Accuracy of the on test images :  50.3\n",
            "---\n",
            "Accuracy :  0.9728\n",
            "Loss :  tensor(0.0333, device='cuda:0', grad_fn=<NllLossBackward0>)\n",
            "Accuracy of the on test images :  49.5\n",
            "---\n",
            "Accuracy :  0.9712\n",
            "Loss :  tensor(0.0039, device='cuda:0', grad_fn=<NllLossBackward0>)\n",
            "Accuracy of the on test images :  50.2\n",
            "---\n",
            "Accuracy :  0.9734\n",
            "Loss :  tensor(0.0495, device='cuda:0', grad_fn=<NllLossBackward0>)\n",
            "Accuracy of the on test images :  49.9\n",
            "---\n",
            "Accuracy :  0.9562\n",
            "Loss :  tensor(0.0116, device='cuda:0', grad_fn=<NllLossBackward0>)\n",
            "Accuracy of the on test images :  49.0\n",
            "---\n",
            "Accuracy :  0.9208\n",
            "Loss :  tensor(0.0130, device='cuda:0', grad_fn=<NllLossBackward0>)\n",
            "Accuracy of the on test images :  50.5\n",
            "---\n",
            "Accuracy :  0.9362\n",
            "Loss :  tensor(0.0417, device='cuda:0', grad_fn=<NllLossBackward0>)\n",
            "Accuracy of the on test images :  49.2\n",
            "---\n",
            "Accuracy :  0.9442\n",
            "Loss :  tensor(0.0141, device='cuda:0', grad_fn=<NllLossBackward0>)\n",
            "Accuracy of the on test images :  49.7\n",
            "---\n",
            "Accuracy :  0.943\n",
            "Loss :  tensor(0.0083, device='cuda:0', grad_fn=<NllLossBackward0>)\n",
            "Accuracy of the on test images :  50.0\n",
            "---\n",
            "Accuracy :  0.9694\n",
            "Loss :  tensor(0.0212, device='cuda:0', grad_fn=<NllLossBackward0>)\n",
            "Accuracy of the on test images :  49.0\n"
          ]
        }
      ]
    },
    {
      "cell_type": "code",
      "source": [
        "print(true_accuracies)"
      ],
      "metadata": {
        "colab": {
          "base_uri": "https://localhost:8080/"
        },
        "id": "Ik83OqJ_yoCE",
        "outputId": "50602db8-5a21-4c02-9f0e-6cdb70f2fb16"
      },
      "execution_count": 19,
      "outputs": [
        {
          "output_type": "stream",
          "name": "stdout",
          "text": [
            "[0.2674, 0.4138, 0.485, 0.5494, 0.5974, 0.6438, 0.681, 0.7198, 0.7388, 0.7504, 0.7696, 0.7994, 0.82, 0.8296, 0.8428, 0.8594, 0.8932, 0.8912, 0.9014, 0.914, 0.922, 0.9282, 0.9238, 0.944, 0.9514, 0.9486, 0.96, 0.9618, 0.9686, 0.9752, 0.9744, 0.9728, 0.9712, 0.9734, 0.9562, 0.9208, 0.9362, 0.9442, 0.943, 0.9694]\n"
          ]
        }
      ]
    },
    {
      "cell_type": "code",
      "source": [
        "model = SimpleAlex(inchannels,kernelsize,stride,padding,poolsize,fc_size1,fc_size2,no_classes).to(device)\n",
        "# model = SimpleAlex(no_classes).to(device)"
      ],
      "metadata": {
        "id": "IO03PxkZzOPY"
      },
      "execution_count": 20,
      "outputs": []
    },
    {
      "cell_type": "code",
      "source": [
        "optimizer = torch.optim.SGD(model.parameters(),lr=0.01, weight_decay = 0.005, momentum = 0.9)\n",
        "criterion = nn.CrossEntropyLoss().to(device)"
      ],
      "metadata": {
        "id": "FPHzNyxwzTq7"
      },
      "execution_count": 21,
      "outputs": []
    },
    {
      "cell_type": "code",
      "source": [
        "for i in range(len(train_labels)):\n",
        "    train_labels[i] = random.randint(0,9)\n",
        "for i in range(len(test_labels)):\n",
        "    test_labels[i] = random.randint(0,9)"
      ],
      "metadata": {
        "id": "M7H8R73Vzfva"
      },
      "execution_count": 22,
      "outputs": []
    },
    {
      "cell_type": "code",
      "source": [
        "label_randaccuracies = training(model,traindata,testdata,optimizer,train_labels,test_labels,0)"
      ],
      "metadata": {
        "colab": {
          "base_uri": "https://localhost:8080/"
        },
        "id": "aMFBIyxPzWhx",
        "outputId": "306bdd0e-8eb0-45ee-ce59-ecd2975dfcaf"
      },
      "execution_count": 23,
      "outputs": [
        {
          "output_type": "stream",
          "name": "stdout",
          "text": [
            "---\n",
            "Accuracy :  0.101\n",
            "Loss :  tensor(2.3055, device='cuda:0', grad_fn=<NllLossBackward0>)\n",
            "Accuracy of the on test images :  10.4\n",
            "---\n",
            "Accuracy :  0.1294\n",
            "Loss :  tensor(2.2999, device='cuda:0', grad_fn=<NllLossBackward0>)\n",
            "Accuracy of the on test images :  10.4\n",
            "---\n",
            "Accuracy :  0.1428\n",
            "Loss :  tensor(2.2499, device='cuda:0', grad_fn=<NllLossBackward0>)\n",
            "Accuracy of the on test images :  10.7\n",
            "---\n",
            "Accuracy :  0.1532\n",
            "Loss :  tensor(2.2040, device='cuda:0', grad_fn=<NllLossBackward0>)\n",
            "Accuracy of the on test images :  10.9\n",
            "---\n",
            "Accuracy :  0.165\n",
            "Loss :  tensor(2.1486, device='cuda:0', grad_fn=<NllLossBackward0>)\n",
            "Accuracy of the on test images :  10.4\n",
            "---\n",
            "Accuracy :  0.1714\n",
            "Loss :  tensor(2.1142, device='cuda:0', grad_fn=<NllLossBackward0>)\n",
            "Accuracy of the on test images :  9.8\n",
            "---\n",
            "Accuracy :  0.1788\n",
            "Loss :  tensor(2.0154, device='cuda:0', grad_fn=<NllLossBackward0>)\n",
            "Accuracy of the on test images :  10.5\n",
            "---\n",
            "Accuracy :  0.1856\n",
            "Loss :  tensor(1.9152, device='cuda:0', grad_fn=<NllLossBackward0>)\n",
            "Accuracy of the on test images :  10.3\n",
            "---\n",
            "Accuracy :  0.1914\n",
            "Loss :  tensor(1.8216, device='cuda:0', grad_fn=<NllLossBackward0>)\n",
            "Accuracy of the on test images :  9.7\n",
            "---\n",
            "Accuracy :  0.2048\n",
            "Loss :  tensor(1.7318, device='cuda:0', grad_fn=<NllLossBackward0>)\n",
            "Accuracy of the on test images :  9.5\n",
            "---\n",
            "Accuracy :  0.2302\n",
            "Loss :  tensor(1.6373, device='cuda:0', grad_fn=<NllLossBackward0>)\n",
            "Accuracy of the on test images :  9.0\n",
            "---\n",
            "Accuracy :  0.237\n",
            "Loss :  tensor(1.5350, device='cuda:0', grad_fn=<NllLossBackward0>)\n",
            "Accuracy of the on test images :  9.6\n",
            "---\n",
            "Accuracy :  0.252\n",
            "Loss :  tensor(1.5194, device='cuda:0', grad_fn=<NllLossBackward0>)\n",
            "Accuracy of the on test images :  8.6\n",
            "---\n",
            "Accuracy :  0.268\n",
            "Loss :  tensor(1.3415, device='cuda:0', grad_fn=<NllLossBackward0>)\n",
            "Accuracy of the on test images :  8.7\n",
            "---\n",
            "Accuracy :  0.2942\n",
            "Loss :  tensor(1.2837, device='cuda:0', grad_fn=<NllLossBackward0>)\n",
            "Accuracy of the on test images :  9.3\n",
            "---\n",
            "Accuracy :  0.309\n",
            "Loss :  tensor(1.2045, device='cuda:0', grad_fn=<NllLossBackward0>)\n",
            "Accuracy of the on test images :  10.2\n",
            "---\n",
            "Accuracy :  0.318\n",
            "Loss :  tensor(1.1286, device='cuda:0', grad_fn=<NllLossBackward0>)\n",
            "Accuracy of the on test images :  9.3\n",
            "---\n",
            "Accuracy :  0.3342\n",
            "Loss :  tensor(1.0770, device='cuda:0', grad_fn=<NllLossBackward0>)\n",
            "Accuracy of the on test images :  8.8\n",
            "---\n",
            "Accuracy :  0.3608\n",
            "Loss :  tensor(1.0086, device='cuda:0', grad_fn=<NllLossBackward0>)\n",
            "Accuracy of the on test images :  8.4\n",
            "---\n",
            "Accuracy :  0.3794\n",
            "Loss :  tensor(0.9770, device='cuda:0', grad_fn=<NllLossBackward0>)\n",
            "Accuracy of the on test images :  9.8\n",
            "---\n",
            "Accuracy :  0.396\n",
            "Loss :  tensor(0.8462, device='cuda:0', grad_fn=<NllLossBackward0>)\n",
            "Accuracy of the on test images :  9.2\n",
            "---\n",
            "Accuracy :  0.4322\n",
            "Loss :  tensor(0.8973, device='cuda:0', grad_fn=<NllLossBackward0>)\n",
            "Accuracy of the on test images :  10.3\n",
            "---\n",
            "Accuracy :  0.4372\n",
            "Loss :  tensor(0.8430, device='cuda:0', grad_fn=<NllLossBackward0>)\n",
            "Accuracy of the on test images :  9.2\n",
            "---\n",
            "Accuracy :  0.4708\n",
            "Loss :  tensor(0.7996, device='cuda:0', grad_fn=<NllLossBackward0>)\n",
            "Accuracy of the on test images :  9.6\n",
            "---\n",
            "Accuracy :  0.4874\n",
            "Loss :  tensor(0.7932, device='cuda:0', grad_fn=<NllLossBackward0>)\n",
            "Accuracy of the on test images :  9.5\n",
            "---\n",
            "Accuracy :  0.5236\n",
            "Loss :  tensor(0.8850, device='cuda:0', grad_fn=<NllLossBackward0>)\n",
            "Accuracy of the on test images :  9.7\n",
            "---\n",
            "Accuracy :  0.5494\n",
            "Loss :  tensor(0.5874, device='cuda:0', grad_fn=<NllLossBackward0>)\n",
            "Accuracy of the on test images :  9.8\n",
            "---\n",
            "Accuracy :  0.5624\n",
            "Loss :  tensor(0.5913, device='cuda:0', grad_fn=<NllLossBackward0>)\n",
            "Accuracy of the on test images :  9.0\n",
            "---\n",
            "Accuracy :  0.583\n",
            "Loss :  tensor(0.5617, device='cuda:0', grad_fn=<NllLossBackward0>)\n",
            "Accuracy of the on test images :  9.5\n",
            "---\n",
            "Accuracy :  0.6108\n",
            "Loss :  tensor(0.4516, device='cuda:0', grad_fn=<NllLossBackward0>)\n",
            "Accuracy of the on test images :  10.3\n",
            "---\n",
            "Accuracy :  0.6202\n",
            "Loss :  tensor(0.6656, device='cuda:0', grad_fn=<NllLossBackward0>)\n",
            "Accuracy of the on test images :  9.8\n",
            "---\n",
            "Accuracy :  0.6438\n",
            "Loss :  tensor(0.4070, device='cuda:0', grad_fn=<NllLossBackward0>)\n",
            "Accuracy of the on test images :  9.7\n",
            "---\n",
            "Accuracy :  0.6416\n",
            "Loss :  tensor(0.4282, device='cuda:0', grad_fn=<NllLossBackward0>)\n",
            "Accuracy of the on test images :  11.1\n",
            "---\n",
            "Accuracy :  0.6758\n",
            "Loss :  tensor(0.3375, device='cuda:0', grad_fn=<NllLossBackward0>)\n",
            "Accuracy of the on test images :  9.7\n",
            "---\n",
            "Accuracy :  0.6852\n",
            "Loss :  tensor(0.3436, device='cuda:0', grad_fn=<NllLossBackward0>)\n",
            "Accuracy of the on test images :  11.6\n",
            "---\n",
            "Accuracy :  0.7012\n",
            "Loss :  tensor(0.5693, device='cuda:0', grad_fn=<NllLossBackward0>)\n",
            "Accuracy of the on test images :  11.3\n",
            "---\n",
            "Accuracy :  0.709\n",
            "Loss :  tensor(0.4781, device='cuda:0', grad_fn=<NllLossBackward0>)\n",
            "Accuracy of the on test images :  11.5\n",
            "---\n",
            "Accuracy :  0.7178\n",
            "Loss :  tensor(0.3050, device='cuda:0', grad_fn=<NllLossBackward0>)\n",
            "Accuracy of the on test images :  13.5\n",
            "---\n",
            "Accuracy :  0.7442\n",
            "Loss :  tensor(0.2092, device='cuda:0', grad_fn=<NllLossBackward0>)\n",
            "Accuracy of the on test images :  10.5\n",
            "---\n",
            "Accuracy :  0.7726\n",
            "Loss :  tensor(0.1709, device='cuda:0', grad_fn=<NllLossBackward0>)\n",
            "Accuracy of the on test images :  11.1\n"
          ]
        }
      ]
    },
    {
      "cell_type": "code",
      "source": [
        "print(label_randaccuracies)"
      ],
      "metadata": {
        "colab": {
          "base_uri": "https://localhost:8080/"
        },
        "id": "mrzP81qO1TDq",
        "outputId": "003d817b-1153-4372-b478-c6e6423bb701"
      },
      "execution_count": 24,
      "outputs": [
        {
          "output_type": "stream",
          "name": "stdout",
          "text": [
            "[0.101, 0.1294, 0.1428, 0.1532, 0.165, 0.1714, 0.1788, 0.1856, 0.1914, 0.2048, 0.2302, 0.237, 0.252, 0.268, 0.2942, 0.309, 0.318, 0.3342, 0.3608, 0.3794, 0.396, 0.4322, 0.4372, 0.4708, 0.4874, 0.5236, 0.5494, 0.5624, 0.583, 0.6108, 0.6202, 0.6438, 0.6416, 0.6758, 0.6852, 0.7012, 0.709, 0.7178, 0.7442, 0.7726]\n"
          ]
        }
      ]
    },
    {
      "cell_type": "code",
      "source": [
        "epochs = []\n",
        "for i in range(40):\n",
        "  epochs.append(i+1)\n",
        "plt.plot(epochs,true_accuracies,label=\"True Labels\")\n",
        "plt.plot(epochs,label_randaccuracies,label=\"Random Labels\")\n",
        "plt.title(\"Random Labels and True Lables\")\n",
        "plt.xlabel(\"Epochs\")\n",
        "plt.ylabel(\"Train Accuracies\")\n",
        "plt.legend()\n",
        "plt.show()"
      ],
      "metadata": {
        "colab": {
          "base_uri": "https://localhost:8080/",
          "height": 295
        },
        "id": "qutERNT91YGK",
        "outputId": "95bb725c-56a1-492d-b45e-af84ff5f960e"
      },
      "execution_count": 26,
      "outputs": [
        {
          "output_type": "display_data",
          "data": {
            "text/plain": [
              "<Figure size 432x288 with 1 Axes>"
            ],
            "image/png": "[encoded data removed]"
          },
          "metadata": {
            "needs_background": "light"
          }
        }
      ]
    },
    {
      "cell_type": "markdown",
      "source": [],
      "metadata": {
        "id": "I_2XBtT3-w59"
      }
    }
  ]
}