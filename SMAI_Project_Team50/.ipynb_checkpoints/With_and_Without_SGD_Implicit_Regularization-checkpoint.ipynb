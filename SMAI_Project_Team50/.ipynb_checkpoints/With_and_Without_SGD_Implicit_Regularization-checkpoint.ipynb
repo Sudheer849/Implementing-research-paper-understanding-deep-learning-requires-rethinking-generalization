{
 "cells": [
  {
   "cell_type": "code",
   "execution_count": 1,
   "metadata": {
    "colab": {
     "base_uri": "https://localhost:8080/",
     "height": 158,
     "referenced_widgets": [
      "9ecf36b844704de58e343036b4cd6c6e",
      "2a425bd5eb204930a559e3d0d4e891f8",
      "a36272a199964dd0b3a08efe9c146c9e",
      "512ee7760d8b4fec8bf63fbaed6f5b1e",
      "e28c69001de44967aa5a58a547b0ed51",
      "d55bc131c607405fbdeabd18bb211994",
      "e3bffa468bc044679f4334eac55c7fd2",
      "87eeacf3bc20477f82ebbb194a8f3ec2",
      "86c781f47c534f24aa58addba7de3b3e",
      "1b8ba1b860264589b4932424b36b83c5",
      "064ba90dc2844c4b9d0d181c010d4453"
     ]
    },
    "id": "U3PAou86xZvF",
    "outputId": "0148f157-8b71-4b49-f35d-ae62ee3db564"
   },
   "outputs": [
    {
     "name": "stdout",
     "output_type": "stream",
     "text": [
      "Device available now: cuda\n",
      "Downloading https://www.cs.toronto.edu/~kriz/cifar-10-python.tar.gz to ./cifar-10-python.tar.gz\n"
     ]
    },
    {
     "data": {
      "application/vnd.jupyter.widget-view+json": {
       "model_id": "9ecf36b844704de58e343036b4cd6c6e",
       "version_major": 2,
       "version_minor": 0
      },
      "text/plain": [
       "  0%|          | 0/170498071 [00:00<?, ?it/s]"
      ]
     },
     "metadata": {},
     "output_type": "display_data"
    },
    {
     "name": "stdout",
     "output_type": "stream",
     "text": [
      "Extracting ./cifar-10-python.tar.gz to ./\n"
     ]
    },
    {
     "name": "stderr",
     "output_type": "stream",
     "text": [
      "/usr/local/lib/python3.8/dist-packages/torchvision/models/inception.py:43: FutureWarning: The default weight initialization of inception_v3 will be changed in future releases of torchvision. If you wish to keep the old behavior (which leads to long initialization times due to scipy/scipy#11299), please set init_weights=True.\n",
      "  warnings.warn(\n"
     ]
    }
   ],
   "source": [
    "import torch\n",
    "import numpy as np\n",
    "import pandas as pd\n",
    "import torch.nn as nn\n",
    "import torch.optim as optim\n",
    "import os\n",
    "import matplotlib.pyplot as plt\n",
    "import torch.nn.functional as F\n",
    "%matplotlib inline\n",
    "import random\n",
    "import torchvision\n",
    "import torchvision.transforms as transforms\n",
    "import numpy as np\n",
    "from torchvision import models\n",
    "import matplotlib.pyplot as plt\n",
    "\n",
    "\n",
    "device = torch.device('cuda' if torch.cuda.is_available() else 'cpu')\n",
    "print('Device available now:', device)\n",
    "\n",
    "image_transforms = transforms.Compose([\n",
    "    transforms.Resize(299),\n",
    "    transforms.CenterCrop(299),\n",
    "    transforms.ToTensor(),\n",
    "    transforms.Normalize(mean=[0.485, 0.456, 0.406], std=[0.229, 0.224, 0.225]),\n",
    "])\n",
    "train = torchvision.datasets.CIFAR10(root='./', train=True, download=True, transform=image_transforms)\n",
    "test = torchvision.datasets.CIFAR10(root='./', train=False, transform=image_transforms)\n",
    "\n",
    "listsubtrain = list(range(0, len(train), 500))\n",
    "\n",
    "listest = list(range(1, len(test), 20))\n",
    "trainset_1 = torch.utils.data.Subset(train, listsubtrain)\n",
    "trainset_2 = torch.utils.data.Subset(test, listest)\n",
    "\n",
    "\n",
    "\n",
    "traindata = torch.utils.data.DataLoader(trainset_1,batch_size=20, shuffle=True, num_workers=2,pin_memory=True)\n",
    "\n",
    "testdata = torch.utils.data.DataLoader(trainset_2,batch_size=5, shuffle=False, num_workers=2,pin_memory=True)\n",
    "\n",
    "transform_inception = transforms.Resize((299,299))\n",
    "\n",
    "\n",
    "model = models.inception_v3()\n",
    "model.aux_logits = False\n",
    "if torch.cuda.is_available():\n",
    "    model.cuda()\n",
    "optimizer = torch.optim.SGD(model.parameters(),lr=0.01, weight_decay = 0.005, momentum = 0.9)\n",
    "criterion = nn.CrossEntropyLoss().to(device)\n",
    "def train_test(epochs):\n",
    " list_acc = 0\n",
    " for i in range(epochs):\n",
    "  Loss = 0\n",
    "  num_correct=0\n",
    "  tot = 0\n",
    "  model.train()\n",
    "  for i,data in enumerate(traindata):\n",
    "    x_data = data[0].to(device)\n",
    "    labels = data[1].to(device)\n",
    "    optimizer.zero_grad()\n",
    "    outputs = model(x_data)\n",
    "\n",
    "    _, pred = torch.max(outputs.data, 1)\n",
    "    num_correct += (pred == labels).sum().item()\n",
    "    tot += labels.size(0)\n",
    "    loss = criterion(outputs, labels)\n",
    "    loss.backward()\n",
    "    optimizer.step()\n",
    "    Loss += loss\n",
    "    \n",
    "  list_acc += num_correct/tot\n",
    "  \n",
    "\n",
    " num_correct = 0\n",
    " tot = 0\n",
    " for i,data in enumerate(testdata):\n",
    "    x_data = data[0].to(device)\n",
    "    labels = data[1].to(device)\n",
    "    outputs = model(x_data)\n",
    "   \n",
    "    _, pred = torch.max(outputs.data, 1)\n",
    "    num_correct += (pred == labels).sum().item()\n",
    "    tot += labels.size(0)\n",
    " return (num_correct)/tot , list_acc/epochs\n",
    " "
   ]
  },
  {
   "cell_type": "code",
   "execution_count": 5,
   "metadata": {
    "id": "TuJqG08Ax38q"
   },
   "outputs": [],
   "source": [
    "def train_test1(epochs):\n",
    " list_acc = 0\n",
    " optimizer = torch.optim.RMSprop(model.parameters(),lr=0.01, weight_decay = 0.005, momentum = 0.9)\n",
    " for i in range(epochs):\n",
    "  Loss = 0\n",
    "  num_correct=0\n",
    "  tot = 0\n",
    "  model.train()\n",
    "  for i,data in enumerate(traindata):\n",
    "    x_data = data[0].to(device)\n",
    "    labels = data[1].to(device)\n",
    "    optimizer.zero_grad()\n",
    "    outputs = model(x_data)\n",
    "\n",
    "    _, pred = torch.max(outputs.data, 1)\n",
    "    num_correct += (pred == labels).sum().item()\n",
    "    tot += labels.size(0)\n",
    "    loss = criterion(outputs, labels)\n",
    "    loss.backward()\n",
    "    optimizer.step()\n",
    "    Loss += loss\n",
    "    \n",
    "  list_acc += num_correct/tot\n",
    "  \n",
    "\n",
    " num_correct = 0\n",
    " tot = 0\n",
    " for i,data in enumerate(testdata):\n",
    "    x_data = data[0].to(device)\n",
    "    labels = data[1].to(device)\n",
    "    outputs = model(x_data)\n",
    "   \n",
    "    _, pred = torch.max(outputs.data, 1)\n",
    "    num_correct += (pred == labels).sum().item()\n",
    "    tot += labels.size(0)\n",
    " return (num_correct)/tot , list_acc/epochs"
   ]
  },
  {
   "cell_type": "code",
   "execution_count": 6,
   "metadata": {
    "colab": {
     "base_uri": "https://localhost:8080/"
    },
    "id": "bd9zLaj3xcMU",
    "outputId": "cc01568d-f675-4e93-e48b-c41c9ab28830"
   },
   "outputs": [
    {
     "name": "stdout",
     "output_type": "stream",
     "text": [
      "0.206 1.0\n",
      "0.194 0.99\n",
      "0.196 0.9899999999999999\n",
      "0.19 0.9725\n",
      "0.204 0.968\n",
      "0.19 0.975\n",
      "0.192 0.9757142857142858\n",
      "0.178 0.98875\n",
      "0.216 0.9922222222222222\n",
      "0.206 0.9960000000000001\n",
      "0.094 0.3\n",
      "0.104 0.08499999999999999\n",
      "0.108 0.10666666666666667\n",
      "0.11 0.0975\n",
      "0.098 0.12\n",
      "0.094 0.11333333333333333\n",
      "0.136 0.11857142857142858\n",
      "0.102 0.12250000000000001\n",
      "0.118 0.09555555555555555\n",
      "0.084 0.10200000000000001\n"
     ]
    }
   ],
   "source": [
    "list_x = [i+1 for i in range(10)]\n",
    "list_test = []\n",
    "list_train = []\n",
    "for i in list_x:\n",
    "  a,b = train_test(i)\n",
    "  print(a,b)\n",
    "  list_test.append(a)\n",
    "  list_train.append(b)\n",
    "     \n",
    "list_test_nosgd = []\n",
    "list_train_nosgd  = []\n",
    "for i in list_x:\n",
    "  a,b = train_test1(i)\n",
    "  print(a,b)\n",
    "  list_test_nosgd.append(a)\n",
    "  list_train_nosgd.append(b)\n",
    "     \n"
   ]
  },
  {
   "cell_type": "code",
   "execution_count": 11,
   "metadata": {
    "colab": {
     "base_uri": "https://localhost:8080/",
     "height": 298
    },
    "id": "zorRxJWH1ClZ",
    "outputId": "31067d11-4d0e-4c16-f655-4e8c00c2a8ff"
   },
   "outputs": [
    {
     "data": {
      "text/plain": [
       "Text(0.5, 0, 'Test_accuracy with and without sgd')"
      ]
     },
     "execution_count": 11,
     "metadata": {},
     "output_type": "execute_result"
    },
    {
     "data": {
      "image/png": "[encoded data removed]",
      "text/plain": [
       "<Figure size 432x288 with 1 Axes>"
      ]
     },
     "metadata": {
      "needs_background": "light"
     },
     "output_type": "display_data"
    }
   ],
   "source": [
    "plt.plot(list_x,list_test,color = 'red')\n",
    "plt.plot(list_x,list_test_nosgd,color = 'blue')\n",
    "plt.legend(['Test_with_sgd','Test_with_nosgd'])\n",
    "plt.xlabel('Test_accuracy with and without sgd')\n"
   ]
  }
 ],
 "metadata": {
  "accelerator": "GPU",
  "colab": {
   "provenance": []
  },
  "gpuClass": "standard",
  "kernelspec": {
   "display_name": "Python 3 (ipykernel)",
   "language": "python",
   "name": "python3"
  },
  "language_info": {
   "codemirror_mode": {
    "name": "ipython",
    "version": 3
   },
   "file_extension": ".py",
   "mimetype": "text/x-python",
   "name": "python",
   "nbconvert_exporter": "python",
   "pygments_lexer": "ipython3",
   "version": "3.8.10"
  },
  "widgets": {
   "application/vnd.jupyter.widget-state+json": {
    "064ba90dc2844c4b9d0d181c010d4453": {
     "model_module": "@jupyter-widgets/controls",
     "model_module_version": "1.5.0",
     "model_name": "DescriptionStyleModel",
     "state": {
      "_model_module": "@jupyter-widgets/controls",
      "_model_module_version": "1.5.0",
      "_model_name": "DescriptionStyleModel",
      "_view_count": null,
      "_view_module": "@jupyter-widgets/base",
      "_view_module_version": "1.2.0",
      "_view_name": "StyleView",
      "description_width": ""
     }
    },
    "1b8ba1b860264589b4932424b36b83c5": {
     "model_module": "@jupyter-widgets/base",
     "model_module_version": "1.2.0",
     "model_name": "LayoutModel",
     "state": {
      "_model_module": "@jupyter-widgets/base",
      "_model_module_version": "1.2.0",
      "_model_name": "LayoutModel",
      "_view_count": null,
      "_view_module": "@jupyter-widgets/base",
      "_view_module_version": "1.2.0",
      "_view_name": "LayoutView",
      "align_content": null,
      "align_items": null,
      "align_self": null,
      "border": null,
      "bottom": null,
      "display": null,
      "flex": null,
      "flex_flow": null,
      "grid_area": null,
      "grid_auto_columns": null,
      "grid_auto_flow": null,
      "grid_auto_rows": null,
      "grid_column": null,
      "grid_gap": null,
      "grid_row": null,
      "grid_template_areas": null,
      "grid_template_columns": null,
      "grid_template_rows": null,
      "height": null,
      "justify_content": null,
      "justify_items": null,
      "left": null,
      "margin": null,
      "max_height": null,
      "max_width": null,
      "min_height": null,
      "min_width": null,
      "object_fit": null,
      "object_position": null,
      "order": null,
      "overflow": null,
      "overflow_x": null,
      "overflow_y": null,
      "padding": null,
      "right": null,
      "top": null,
      "visibility": null,
      "width": null
     }
    },
    "2a425bd5eb204930a559e3d0d4e891f8": {
     "model_module": "@jupyter-widgets/controls",
     "model_module_version": "1.5.0",
     "model_name": "HTMLModel",
     "state": {
      "_dom_classes": [],
      "_model_module": "@jupyter-widgets/controls",
      "_model_module_version": "1.5.0",
      "_model_name": "HTMLModel",
      "_view_count": null,
      "_view_module": "@jupyter-widgets/controls",
      "_view_module_version": "1.5.0",
      "_view_name": "HTMLView",
      "description": "",
      "description_tooltip": null,
      "layout": "IPY_MODEL_d55bc131c607405fbdeabd18bb211994",
      "placeholder": "​",
      "style": "IPY_MODEL_e3bffa468bc044679f4334eac55c7fd2",
      "value": "100%"
     }
    },
    "512ee7760d8b4fec8bf63fbaed6f5b1e": {
     "model_module": "@jupyter-widgets/controls",
     "model_module_version": "1.5.0",
     "model_name": "HTMLModel",
     "state": {
      "_dom_classes": [],
      "_model_module": "@jupyter-widgets/controls",
      "_model_module_version": "1.5.0",
      "_model_name": "HTMLModel",
      "_view_count": null,
      "_view_module": "@jupyter-widgets/controls",
      "_view_module_version": "1.5.0",
      "_view_name": "HTMLView",
      "description": "",
      "description_tooltip": null,
      "layout": "IPY_MODEL_1b8ba1b860264589b4932424b36b83c5",
      "placeholder": "​",
      "style": "IPY_MODEL_064ba90dc2844c4b9d0d181c010d4453",
      "value": " 170498071/170498071 [00:03&lt;00:00, 51046622.84it/s]"
     }
    },
    "86c781f47c534f24aa58addba7de3b3e": {
     "model_module": "@jupyter-widgets/controls",
     "model_module_version": "1.5.0",
     "model_name": "ProgressStyleModel",
     "state": {
      "_model_module": "@jupyter-widgets/controls",
      "_model_module_version": "1.5.0",
      "_model_name": "ProgressStyleModel",
      "_view_count": null,
      "_view_module": "@jupyter-widgets/base",
      "_view_module_version": "1.2.0",
      "_view_name": "StyleView",
      "bar_color": null,
      "description_width": ""
     }
    },
    "87eeacf3bc20477f82ebbb194a8f3ec2": {
     "model_module": "@jupyter-widgets/base",
     "model_module_version": "1.2.0",
     "model_name": "LayoutModel",
     "state": {
      "_model_module": "@jupyter-widgets/base",
      "_model_module_version": "1.2.0",
      "_model_name": "LayoutModel",
      "_view_count": null,
      "_view_module": "@jupyter-widgets/base",
      "_view_module_version": "1.2.0",
      "_view_name": "LayoutView",
      "align_content": null,
      "align_items": null,
      "align_self": null,
      "border": null,
      "bottom": null,
      "display": null,
      "flex": null,
      "flex_flow": null,
      "grid_area": null,
      "grid_auto_columns": null,
      "grid_auto_flow": null,
      "grid_auto_rows": null,
      "grid_column": null,
      "grid_gap": null,
      "grid_row": null,
      "grid_template_areas": null,
      "grid_template_columns": null,
      "grid_template_rows": null,
      "height": null,
      "justify_content": null,
      "justify_items": null,
      "left": null,
      "margin": null,
      "max_height": null,
      "max_width": null,
      "min_height": null,
      "min_width": null,
      "object_fit": null,
      "object_position": null,
      "order": null,
      "overflow": null,
      "overflow_x": null,
      "overflow_y": null,
      "padding": null,
      "right": null,
      "top": null,
      "visibility": null,
      "width": null
     }
    },
    "9ecf36b844704de58e343036b4cd6c6e": {
     "model_module": "@jupyter-widgets/controls",
     "model_module_version": "1.5.0",
     "model_name": "HBoxModel",
     "state": {
      "_dom_classes": [],
      "_model_module": "@jupyter-widgets/controls",
      "_model_module_version": "1.5.0",
      "_model_name": "HBoxModel",
      "_view_count": null,
      "_view_module": "@jupyter-widgets/controls",
      "_view_module_version": "1.5.0",
      "_view_name": "HBoxView",
      "box_style": "",
      "children": [
       "IPY_MODEL_2a425bd5eb204930a559e3d0d4e891f8",
       "IPY_MODEL_a36272a199964dd0b3a08efe9c146c9e",
       "IPY_MODEL_512ee7760d8b4fec8bf63fbaed6f5b1e"
      ],
      "layout": "IPY_MODEL_e28c69001de44967aa5a58a547b0ed51"
     }
    },
    "a36272a199964dd0b3a08efe9c146c9e": {
     "model_module": "@jupyter-widgets/controls",
     "model_module_version": "1.5.0",
     "model_name": "FloatProgressModel",
     "state": {
      "_dom_classes": [],
      "_model_module": "@jupyter-widgets/controls",
      "_model_module_version": "1.5.0",
      "_model_name": "FloatProgressModel",
      "_view_count": null,
      "_view_module": "@jupyter-widgets/controls",
      "_view_module_version": "1.5.0",
      "_view_name": "ProgressView",
      "bar_style": "success",
      "description": "",
      "description_tooltip": null,
      "layout": "IPY_MODEL_87eeacf3bc20477f82ebbb194a8f3ec2",
      "max": 170498071,
      "min": 0,
      "orientation": "horizontal",
      "style": "IPY_MODEL_86c781f47c534f24aa58addba7de3b3e",
      "value": 170498071
     }
    },
    "d55bc131c607405fbdeabd18bb211994": {
     "model_module": "@jupyter-widgets/base",
     "model_module_version": "1.2.0",
     "model_name": "LayoutModel",
     "state": {
      "_model_module": "@jupyter-widgets/base",
      "_model_module_version": "1.2.0",
      "_model_name": "LayoutModel",
      "_view_count": null,
      "_view_module": "@jupyter-widgets/base",
      "_view_module_version": "1.2.0",
      "_view_name": "LayoutView",
      "align_content": null,
      "align_items": null,
      "align_self": null,
      "border": null,
      "bottom": null,
      "display": null,
      "flex": null,
      "flex_flow": null,
      "grid_area": null,
      "grid_auto_columns": null,
      "grid_auto_flow": null,
      "grid_auto_rows": null,
      "grid_column": null,
      "grid_gap": null,
      "grid_row": null,
      "grid_template_areas": null,
      "grid_template_columns": null,
      "grid_template_rows": null,
      "height": null,
      "justify_content": null,
      "justify_items": null,
      "left": null,
      "margin": null,
      "max_height": null,
      "max_width": null,
      "min_height": null,
      "min_width": null,
      "object_fit": null,
      "object_position": null,
      "order": null,
      "overflow": null,
      "overflow_x": null,
      "overflow_y": null,
      "padding": null,
      "right": null,
      "top": null,
      "visibility": null,
      "width": null
     }
    },
    "e28c69001de44967aa5a58a547b0ed51": {
     "model_module": "@jupyter-widgets/base",
     "model_module_version": "1.2.0",
     "model_name": "LayoutModel",
     "state": {
      "_model_module": "@jupyter-widgets/base",
      "_model_module_version": "1.2.0",
      "_model_name": "LayoutModel",
      "_view_count": null,
      "_view_module": "@jupyter-widgets/base",
      "_view_module_version": "1.2.0",
      "_view_name": "LayoutView",
      "align_content": null,
      "align_items": null,
      "align_self": null,
      "border": null,
      "bottom": null,
      "display": null,
      "flex": null,
      "flex_flow": null,
      "grid_area": null,
      "grid_auto_columns": null,
      "grid_auto_flow": null,
      "grid_auto_rows": null,
      "grid_column": null,
      "grid_gap": null,
      "grid_row": null,
      "grid_template_areas": null,
      "grid_template_columns": null,
      "grid_template_rows": null,
      "height": null,
      "justify_content": null,
      "justify_items": null,
      "left": null,
      "margin": null,
      "max_height": null,
      "max_width": null,
      "min_height": null,
      "min_width": null,
      "object_fit": null,
      "object_position": null,
      "order": null,
      "overflow": null,
      "overflow_x": null,
      "overflow_y": null,
      "padding": null,
      "right": null,
      "top": null,
      "visibility": null,
      "width": null
     }
    },
    "e3bffa468bc044679f4334eac55c7fd2": {
     "model_module": "@jupyter-widgets/controls",
     "model_module_version": "1.5.0",
     "model_name": "DescriptionStyleModel",
     "state": {
      "_model_module": "@jupyter-widgets/controls",
      "_model_module_version": "1.5.0",
      "_model_name": "DescriptionStyleModel",
      "_view_count": null,
      "_view_module": "@jupyter-widgets/base",
      "_view_module_version": "1.2.0",
      "_view_name": "StyleView",
      "description_width": ""
     }
    }
   }
  }
 },
 "nbformat": 4,
 "nbformat_minor": 1
}
